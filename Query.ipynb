{
 "cells": [
  {
   "cell_type": "markdown",
   "metadata": {},
   "source": [
    "# Queries for the search application"
   ]
  },
  {
   "cell_type": "code",
   "execution_count": 34,
   "metadata": {},
   "outputs": [],
   "source": [
    "import pandas as pd\n",
    "import json\n",
    "import pymongo\n",
    "import io\n",
    "import pprint\n",
    "import itertools"
   ]
  },
  {
   "cell_type": "code",
   "execution_count": 2,
   "metadata": {},
   "outputs": [],
   "source": [
    "#Connect to the mongoDB database\n",
    "client = pymongo.MongoClient()\n",
    "db = client[\"TWT_DB\"]\n",
    "tweets = db[\"tweets\"]"
   ]
  },
  {
   "cell_type": "code",
   "execution_count": 13,
   "metadata": {},
   "outputs": [
    {
     "data": {
      "text/plain": [
       "{'_id': ObjectId('5ea66a14fb8f5ff7fd471280'),\n",
       " 'id_str': '1254639872641576960',\n",
       " 'user_name': 'Xcntrik',\n",
       " 'user_id': '123628682',\n",
       " 'content': 'Many U.S. businesses unlikely to seek government aid: NABE survey https://t.co/9bPT4YQN5I https://t.co/0B3ekpqymK',\n",
       " 'created_at': '2020-04-27 05:13:50',\n",
       " 'location': 'Southeast Texas',\n",
       " 'hashtags': [],\n",
       " 'mentions': ['1652541'],\n",
       " 'in_reply_to_user_id': None,\n",
       " 'in_reply_to_status_id': None,\n",
       " 'retweetedFrom': '1652541',\n",
       " 'media': ['https://t.co/0B3ekpqymK'],\n",
       " 'retweet': True,\n",
       " 'FavCount': -1,\n",
       " 'source': 'Twitter for Android',\n",
       " 'retweet_count': 7}"
      ]
     },
     "execution_count": 13,
     "metadata": {},
     "output_type": "execute_result"
    }
   ],
   "source": [
    "#Document(row) sample from the mongoDB database \n",
    "myquery = {}\n",
    "mydoc = list(tweets.find(myquery))\n",
    "mydoc[0]"
   ]
  },
  {
   "cell_type": "markdown",
   "metadata": {},
   "source": [
    "## Search by word"
   ]
  },
  {
   "cell_type": "code",
   "execution_count": 22,
   "metadata": {},
   "outputs": [
    {
     "data": {
      "text/plain": [
       "413"
      ]
     },
     "execution_count": 22,
     "metadata": {},
     "output_type": "execute_result"
    }
   ],
   "source": [
    "#Find number of tweets with word\n",
    "myquery = {\"content\":{\"$regex\":\"covid19\",\"$options\" :'i'}}\n",
    "tweets.count_documents(myquery)"
   ]
  },
  {
   "cell_type": "code",
   "execution_count": 23,
   "metadata": {},
   "outputs": [
    {
     "data": {
      "text/plain": [
       "{'_id': ObjectId('5ea66a14fb8f5ff7fd4712a9'),\n",
       " 'id_str': '1254636770051928071',\n",
       " 'user_name': 'Pamela Moore #WWG1WGA #DIGITALSOLDIERS',\n",
       " 'user_id': '1188695886781698050',\n",
       " 'content': 'Met virtually with our terrific @AmChamPH Board on how U.S. firms are supporting the Philippine economy, workforce, and #COVID19 response. We’re all in this together, and great to \\u200bsee U.S. firms contributing in so many ways. #FriendsPartnersAllies #goodbUSinessPH',\n",
       " 'created_at': '2020-04-27 05:01:30',\n",
       " 'location': 'Broken Arrow, OK',\n",
       " 'hashtags': [],\n",
       " 'mentions': ['441540997', '4745918652'],\n",
       " 'in_reply_to_user_id': None,\n",
       " 'in_reply_to_status_id': None,\n",
       " 'retweetedFrom': '441540997',\n",
       " 'media': [],\n",
       " 'retweet': True,\n",
       " 'FavCount': -1,\n",
       " 'source': 'Twitter for Android',\n",
       " 'retweet_count': 118}"
      ]
     },
     "execution_count": 23,
     "metadata": {},
     "output_type": "execute_result"
    }
   ],
   "source": [
    "#Tweets\n",
    "twts = list(tweets.find(myquery))\n",
    "twts[0]"
   ]
  },
  {
   "cell_type": "markdown",
   "metadata": {},
   "source": [
    "## Search by exact phrase"
   ]
  },
  {
   "cell_type": "code",
   "execution_count": 6,
   "metadata": {},
   "outputs": [
    {
     "data": {
      "text/plain": [
       "222"
      ]
     },
     "execution_count": 6,
     "metadata": {},
     "output_type": "execute_result"
    }
   ],
   "source": [
    "#Find number of tweets with #covid19 (Exact string put the specified string between the ^(Starts with) and $(Ends with))\n",
    "myquery = {\"hashtags\":{\"$regex\":\"^covid19$\",\"$options\" :'i'}}\n",
    "tweets.count_documents(myquery)"
   ]
  },
  {
   "cell_type": "code",
   "execution_count": 7,
   "metadata": {},
   "outputs": [
    {
     "data": {
      "text/plain": [
       "{'_id': ObjectId('5ea66a16fb8f5ff7fd471300'),\n",
       " 'id_str': '1254628238032203776',\n",
       " 'user_name': 'Toshitaka Kage',\n",
       " 'user_id': '181232582',\n",
       " 'content': 'Fauci says #COVID19 testing needs to be doubled before U.S. reopens economy https://t.co/B576qDECyl https://t.co/A0RRjKEw8m',\n",
       " 'created_at': '2020-04-27 04:27:36',\n",
       " 'location': '',\n",
       " 'hashtags': ['COVID19'],\n",
       " 'mentions': ['487118986'],\n",
       " 'in_reply_to_user_id': None,\n",
       " 'in_reply_to_status_id': None,\n",
       " 'retweetedFrom': '487118986',\n",
       " 'media': ['https://t.co/A0RRjKEw8m'],\n",
       " 'retweet': True,\n",
       " 'FavCount': -1,\n",
       " 'source': 'Twitter Web App',\n",
       " 'retweet_count': 27}"
      ]
     },
     "execution_count": 7,
     "metadata": {},
     "output_type": "execute_result"
    }
   ],
   "source": [
    "#Tweets\n",
    "twts = list(tweets.find(myquery))\n",
    "twts[0]"
   ]
  },
  {
   "cell_type": "markdown",
   "metadata": {},
   "source": [
    "## Search by a hashtag"
   ]
  },
  {
   "cell_type": "code",
   "execution_count": 20,
   "metadata": {},
   "outputs": [],
   "source": [
    "#Search using a hashtag.\n",
    "myquery = {\"content\":{\"$regex\":\".#covid19.\",\"$options\" :'i'}}\n",
    "twts = list(tweets.find(myquery))"
   ]
  },
  {
   "cell_type": "code",
   "execution_count": 21,
   "metadata": {},
   "outputs": [
    {
     "data": {
      "text/plain": [
       "{'_id': ObjectId('5ea66a14fb8f5ff7fd4712a9'),\n",
       " 'id_str': '1254636770051928071',\n",
       " 'user_name': 'Pamela Moore #WWG1WGA #DIGITALSOLDIERS',\n",
       " 'user_id': '1188695886781698050',\n",
       " 'content': 'Met virtually with our terrific @AmChamPH Board on how U.S. firms are supporting the Philippine economy, workforce, and #COVID19 response. We’re all in this together, and great to \\u200bsee U.S. firms contributing in so many ways. #FriendsPartnersAllies #goodbUSinessPH',\n",
       " 'created_at': '2020-04-27 05:01:30',\n",
       " 'location': 'Broken Arrow, OK',\n",
       " 'hashtags': [],\n",
       " 'mentions': ['441540997', '4745918652'],\n",
       " 'in_reply_to_user_id': None,\n",
       " 'in_reply_to_status_id': None,\n",
       " 'retweetedFrom': '441540997',\n",
       " 'media': [],\n",
       " 'retweet': True,\n",
       " 'FavCount': -1,\n",
       " 'source': 'Twitter for Android',\n",
       " 'retweet_count': 118}"
      ]
     },
     "execution_count": 21,
     "metadata": {},
     "output_type": "execute_result"
    }
   ],
   "source": [
    "twts[0]"
   ]
  },
  {
   "cell_type": "markdown",
   "metadata": {},
   "source": [
    "## Search by time range"
   ]
  },
  {
   "cell_type": "code",
   "execution_count": 24,
   "metadata": {},
   "outputs": [
    {
     "data": {
      "text/plain": [
       "{'_id': ObjectId('5ea66a14fb8f5ff7fd471281'),\n",
       " 'id_str': '1254639834473230336',\n",
       " 'user_name': 'Dave Talltree, son of Wymo of Mokuleia',\n",
       " 'user_id': '1098317762626088961',\n",
       " 'content': 'Many U.S. businesses unlikely to seek government aid: NABE survey https://t.co/9bPT4YQN5I https://t.co/0B3ekpqymK',\n",
       " 'created_at': '2020-04-27 05:13:41',\n",
       " 'location': 'Keiki o ka ʻĀina ',\n",
       " 'hashtags': [],\n",
       " 'mentions': ['1652541'],\n",
       " 'in_reply_to_user_id': None,\n",
       " 'in_reply_to_status_id': None,\n",
       " 'retweetedFrom': '1652541',\n",
       " 'media': ['https://t.co/0B3ekpqymK'],\n",
       " 'retweet': True,\n",
       " 'FavCount': -1,\n",
       " 'source': 'Twitter Web App',\n",
       " 'retweet_count': 7}"
      ]
     },
     "execution_count": 24,
     "metadata": {},
     "output_type": "execute_result"
    }
   ],
   "source": [
    "# Search by Time range\n",
    "twts = db.tweets.find({\"created_at\":{ \"$gte\": \"2020-04-27 05:13:10\", \"$lt\": \"2020-04-27 05:13:50\" }})\n",
    "twts = list(twts)\n",
    "twts[0]"
   ]
  },
  {
   "cell_type": "code",
   "execution_count": 25,
   "metadata": {},
   "outputs": [
    {
     "data": {
      "text/plain": [
       "2"
      ]
     },
     "execution_count": 25,
     "metadata": {},
     "output_type": "execute_result"
    }
   ],
   "source": [
    "len(twts)"
   ]
  },
  {
   "cell_type": "markdown",
   "metadata": {},
   "source": [
    "## Misc"
   ]
  },
  {
   "cell_type": "code",
   "execution_count": 15,
   "metadata": {},
   "outputs": [
    {
     "data": {
      "text/plain": [
       "104"
      ]
     },
     "execution_count": 15,
     "metadata": {},
     "output_type": "execute_result"
    }
   ],
   "source": [
    "#???????\n",
    "myquery = {\"location\":\"New York, NY\"}\n",
    "\n",
    "tweets.count_documents(myquery)"
   ]
  },
  {
   "cell_type": "code",
   "execution_count": 16,
   "metadata": {},
   "outputs": [
    {
     "data": {
      "text/plain": [
       "'Number of original tweet:3306 and number of retweets:12123'"
      ]
     },
     "execution_count": 16,
     "metadata": {},
     "output_type": "execute_result"
    }
   ],
   "source": [
    "#Types of tweets\n",
    "count_retweet = tweets.count_documents({\"retweet\":True})\n",
    "count_original = tweets.count_documents({\"retweet\":False})\n",
    "\"Number of original tweet:\" + str(count_original) + \" and number of retweets:\" + str(count_retweet)"
   ]
  },
  {
   "cell_type": "code",
   "execution_count": 38,
   "metadata": {},
   "outputs": [],
   "source": [
    "hashtag_count = {}\n",
    "for tweet in tweets.find():\n",
    "    ht = tweet[\"hashtags\"]\n",
    "    for hash in ht:\n",
    "        hash = hash.lower()\n",
    "        if hash not in hashtag_count:\n",
    "            hashtag_count[hash] = 1\n",
    "        else:\n",
    "            hashtag_count[hash] += 1\n",
    "\n",
    "hc = sorted(hashtag_count, key=hashtag_count.get, reverse=True)  # Sorting the top 10.\n",
    "count = 0\n",
    "\n",
    "for z in hc:\n",
    "    if count == 10:\n",
    "        break\n",
    "    jsonx = {\"hashtag\": z, \"count\": str(hashtag_count[z])}\n",
    "    count += 1\n",
    "# {k: v for k, v in sorted(hashtag_count.items(), key=lambda item: item[1])}"
   ]
  },
  {
   "cell_type": "code",
   "execution_count": null,
   "metadata": {},
   "outputs": [],
   "source": [
    "twts = db.tweets.runcommand( { \"$text\": { \"$search\": \"\\\"U.S.\\\" \\\"#covid19\"\"} } )\n",
    "twts = list(twts)\n",
    "twts"
   ]
  },
  {
   "cell_type": "markdown",
   "metadata": {},
   "source": [
    "## Experimenting with text index"
   ]
  },
  {
   "cell_type": "code",
   "execution_count": null,
   "metadata": {},
   "outputs": [],
   "source": [
    "#Connect to the mongoDB database\n",
    "client = pymongo.MongoClient()\n",
    "db = client[\"TWT_DB\"]\n",
    "tweets = db[\"test\"]"
   ]
  },
  {
   "cell_type": "code",
   "execution_count": null,
   "metadata": {},
   "outputs": [],
   "source": [
    "#Create a test index\n",
    "db.tweets.create_index([(\"content\",pymongo.TEXT)])"
   ]
  },
  {
   "cell_type": "code",
   "execution_count": 27,
   "metadata": {},
   "outputs": [
    {
     "data": {
      "text/plain": [
       "{'_id': ObjectId('5ea66afbfb8f5ff7fd474756'),\n",
       " 'id_str': '1253752842361483265',\n",
       " 'user_name': 'Dr. Marcell Vollmer #SocialDistancing #StayHome',\n",
       " 'user_id': '99674560',\n",
       " 'content': 'The Great #Lockdown of the economy has been completely unprecedented, both in terms of the speed of the shutdown and its impact on jobs.\\n\\n #coronavirus #COVID19 #health #COVIDー19 #worklife #motivation #FutureofWork #Leadership #WorkLifeBalance #USA\\n\\n https://t.co/yoEHiyJcxc',\n",
       " 'created_at': '2020-04-24 18:29:05',\n",
       " 'location': 'Munich, Bavaria',\n",
       " 'hashtags': ['Lockdown',\n",
       "  'coronavirus',\n",
       "  'COVID19',\n",
       "  'health',\n",
       "  'COVIDー19',\n",
       "  'worklife',\n",
       "  'motivation',\n",
       "  'FutureofWork',\n",
       "  'Leadership',\n",
       "  'WorkLifeBalance',\n",
       "  'USA'],\n",
       " 'mentions': [],\n",
       " 'in_reply_to_user_id': None,\n",
       " 'in_reply_to_status_id': None,\n",
       " 'retweetedFrom': -1,\n",
       " 'media': [],\n",
       " 'retweet': False,\n",
       " 'FavCount': 6,\n",
       " 'source': 'Twitter for iPad',\n",
       " 'retweet_count': 4}"
      ]
     },
     "execution_count": 27,
     "metadata": {},
     "output_type": "execute_result"
    }
   ],
   "source": [
    "twts = db.tweets.find({\"$text\": {\"$search\": \"\\\"#covid19\\\"\" } } )\n",
    "twts = list(twts)\n",
    "twts[0]"
   ]
  },
  {
   "cell_type": "code",
   "execution_count": 28,
   "metadata": {},
   "outputs": [
    {
     "data": {
      "text/plain": [
       "396"
      ]
     },
     "execution_count": 28,
     "metadata": {},
     "output_type": "execute_result"
    }
   ],
   "source": [
    "len(twts)"
   ]
  },
  {
   "cell_type": "code",
   "execution_count": 29,
   "metadata": {},
   "outputs": [
    {
     "data": {
      "text/plain": [
       "{'_id': ObjectId('5ea66aecfb8f5ff7fd47442a'),\n",
       " 'id_str': '1253789808247349248',\n",
       " 'user_name': 'Bud Babbit',\n",
       " 'user_id': '1251491717850808320',\n",
       " 'content': '@IngrahamAngle New York is also responsible for 8% of the U.S. GDP.  It’s economy is the same size as Canada’s.  If NY was a country it’s total economy would sit 11th on the list....repeat, of countries.   Not shocking that it’s population created such a covid problem.',\n",
       " 'created_at': '2020-04-24 20:55:59',\n",
       " 'location': '',\n",
       " 'hashtags': [],\n",
       " 'mentions': ['50769180'],\n",
       " 'in_reply_to_user_id': 50769180,\n",
       " 'in_reply_to_status_id': 1253787025909723139,\n",
       " 'retweetedFrom': -1,\n",
       " 'media': [],\n",
       " 'retweet': False,\n",
       " 'FavCount': 4,\n",
       " 'source': 'Twitter for iPhone',\n",
       " 'retweet_count': 0}"
      ]
     },
     "execution_count": 29,
     "metadata": {},
     "output_type": "execute_result"
    }
   ],
   "source": [
    "twts = db.tweets.find({\"$text\": {\"$search\": \"U.S.\"} } )\n",
    "twts = list(twts)\n",
    "twts[0]"
   ]
  }
 ],
 "metadata": {
  "kernelspec": {
   "display_name": "Python 3",
   "language": "python",
   "name": "python3"
  },
  "language_info": {
   "codemirror_mode": {
    "name": "ipython",
    "version": 3
   },
   "file_extension": ".py",
   "mimetype": "text/x-python",
   "name": "python",
   "nbconvert_exporter": "python",
   "pygments_lexer": "ipython3",
   "version": "3.7.3"
  }
 },
 "nbformat": 4,
 "nbformat_minor": 2
}
