{
 "cells": [
  {
   "cell_type": "markdown",
   "metadata": {},
   "source": [
    "# Queries for the search application"
   ]
  },
  {
   "cell_type": "code",
   "execution_count": 1,
   "metadata": {},
   "outputs": [],
   "source": [
    "import pandas as pd\n",
    "import json\n",
    "import pymongo\n",
    "import io\n",
    "import pprint\n",
    "import psycopg2"
   ]
  },
  {
   "cell_type": "markdown",
   "metadata": {},
   "source": [
    "## PostgreSQL"
   ]
  },
  {
   "cell_type": "code",
   "execution_count": 24,
   "metadata": {},
   "outputs": [],
   "source": [
    "#connect to postgreSQL database\n",
    "conn = psycopg2.connect(host=\"localhost\", port = 5432, database=\"twitter\", user=\"postgres\", password=\"postgres@329\")\n",
    "cur = conn.cursor()"
   ]
  },
  {
   "cell_type": "markdown",
   "metadata": {},
   "source": [
    "### About user data"
   ]
  },
  {
   "cell_type": "code",
   "execution_count": 12,
   "metadata": {
    "scrolled": true
   },
   "outputs": [
    {
     "data": {
      "text/html": [
       "<div>\n",
       "<style scoped>\n",
       "    .dataframe tbody tr th:only-of-type {\n",
       "        vertical-align: middle;\n",
       "    }\n",
       "\n",
       "    .dataframe tbody tr th {\n",
       "        vertical-align: top;\n",
       "    }\n",
       "\n",
       "    .dataframe thead th {\n",
       "        text-align: right;\n",
       "    }\n",
       "</style>\n",
       "<table border=\"1\" class=\"dataframe\">\n",
       "  <thead>\n",
       "    <tr style=\"text-align: right;\">\n",
       "      <th></th>\n",
       "      <th>user_id</th>\n",
       "      <th>user_id_str</th>\n",
       "      <th>name</th>\n",
       "      <th>screen_name</th>\n",
       "      <th>location</th>\n",
       "      <th>description</th>\n",
       "      <th>protected</th>\n",
       "      <th>followers_count</th>\n",
       "      <th>friends_count</th>\n",
       "      <th>listed_count</th>\n",
       "      <th>created_at</th>\n",
       "      <th>favourites_count</th>\n",
       "      <th>verified</th>\n",
       "      <th>statuses_count</th>\n",
       "    </tr>\n",
       "  </thead>\n",
       "  <tbody>\n",
       "    <tr>\n",
       "      <th>0</th>\n",
       "      <td>498137972</td>\n",
       "      <td>498137972</td>\n",
       "      <td>Diana Dumitru</td>\n",
       "      <td>anaiduza</td>\n",
       "      <td></td>\n",
       "      <td>Dubito ergo...</td>\n",
       "      <td>False</td>\n",
       "      <td>396</td>\n",
       "      <td>2099</td>\n",
       "      <td>225</td>\n",
       "      <td>Mon Feb 20 18:40:31 +0000 2012</td>\n",
       "      <td>4259</td>\n",
       "      <td>False</td>\n",
       "      <td>80987</td>\n",
       "    </tr>\n",
       "    <tr>\n",
       "      <th>1</th>\n",
       "      <td>65466158</td>\n",
       "      <td>65466158</td>\n",
       "      <td>Pedro da Costa</td>\n",
       "      <td>pdacosta</td>\n",
       "      <td>Washington, DC</td>\n",
       "      <td>Federal Reserve &amp; economy watcher at Market Ne...</td>\n",
       "      <td>False</td>\n",
       "      <td>136283</td>\n",
       "      <td>28095</td>\n",
       "      <td>4398</td>\n",
       "      <td>Thu Aug 13 20:59:18 +0000 2009</td>\n",
       "      <td>82454</td>\n",
       "      <td>True</td>\n",
       "      <td>239352</td>\n",
       "    </tr>\n",
       "    <tr>\n",
       "      <th>2</th>\n",
       "      <td>1399854920</td>\n",
       "      <td>1399854920</td>\n",
       "      <td>Kobe</td>\n",
       "      <td>BryantBWild</td>\n",
       "      <td>The Wolfpack</td>\n",
       "      <td>Fall In Order To Grow, Lose In Order To Gain. ...</td>\n",
       "      <td>False</td>\n",
       "      <td>886</td>\n",
       "      <td>635</td>\n",
       "      <td>1</td>\n",
       "      <td>Fri May 03 14:16:58 +0000 2013</td>\n",
       "      <td>11986</td>\n",
       "      <td>False</td>\n",
       "      <td>42034</td>\n",
       "    </tr>\n",
       "    <tr>\n",
       "      <th>3</th>\n",
       "      <td>940032448057896960</td>\n",
       "      <td>940032448057896960</td>\n",
       "      <td>JR Thatcher 📈</td>\n",
       "      <td>JrThatcher</td>\n",
       "      <td>West TX, USA</td>\n",
       "      <td>Graduate Student | B.S. Economics | Finance | ...</td>\n",
       "      <td>False</td>\n",
       "      <td>1145</td>\n",
       "      <td>535</td>\n",
       "      <td>13</td>\n",
       "      <td>Mon Dec 11 01:36:15 +0000 2017</td>\n",
       "      <td>178003</td>\n",
       "      <td>False</td>\n",
       "      <td>97937</td>\n",
       "    </tr>\n",
       "    <tr>\n",
       "      <th>4</th>\n",
       "      <td>808545</td>\n",
       "      <td>808545</td>\n",
       "      <td>Bruce Reyes-Chow 🗽</td>\n",
       "      <td>breyeschow</td>\n",
       "      <td>San Francisco, CA</td>\n",
       "      <td>he/him/his\\n#WarrenDemocrat\\n@fpcpaloalto @brc...</td>\n",
       "      <td>False</td>\n",
       "      <td>10005</td>\n",
       "      <td>1748</td>\n",
       "      <td>562</td>\n",
       "      <td>Sat Mar 03 15:46:53 +0000 2007</td>\n",
       "      <td>25727</td>\n",
       "      <td>False</td>\n",
       "      <td>60731</td>\n",
       "    </tr>\n",
       "  </tbody>\n",
       "</table>\n",
       "</div>"
      ],
      "text/plain": [
       "              user_id         user_id_str                name  screen_name  \\\n",
       "0           498137972           498137972       Diana Dumitru     anaiduza   \n",
       "1            65466158            65466158      Pedro da Costa     pdacosta   \n",
       "2          1399854920          1399854920                Kobe  BryantBWild   \n",
       "3  940032448057896960  940032448057896960       JR Thatcher 📈   JrThatcher   \n",
       "4              808545              808545  Bruce Reyes-Chow 🗽   breyeschow   \n",
       "\n",
       "            location                                        description  \\\n",
       "0                                                        Dubito ergo...   \n",
       "1     Washington, DC  Federal Reserve & economy watcher at Market Ne...   \n",
       "2       The Wolfpack  Fall In Order To Grow, Lose In Order To Gain. ...   \n",
       "3       West TX, USA  Graduate Student | B.S. Economics | Finance | ...   \n",
       "4  San Francisco, CA  he/him/his\\n#WarrenDemocrat\\n@fpcpaloalto @brc...   \n",
       "\n",
       "   protected  followers_count  friends_count  listed_count  \\\n",
       "0      False              396           2099           225   \n",
       "1      False           136283          28095          4398   \n",
       "2      False              886            635             1   \n",
       "3      False             1145            535            13   \n",
       "4      False            10005           1748           562   \n",
       "\n",
       "                       created_at  favourites_count  verified  statuses_count  \n",
       "0  Mon Feb 20 18:40:31 +0000 2012              4259     False           80987  \n",
       "1  Thu Aug 13 20:59:18 +0000 2009             82454      True          239352  \n",
       "2  Fri May 03 14:16:58 +0000 2013             11986     False           42034  \n",
       "3  Mon Dec 11 01:36:15 +0000 2017            178003     False           97937  \n",
       "4  Sat Mar 03 15:46:53 +0000 2007             25727     False           60731  "
      ]
     },
     "execution_count": 12,
     "metadata": {},
     "output_type": "execute_result"
    }
   ],
   "source": [
    "#Row sample from the database \n",
    "cur.execute(\"select * from user_df limit 5\")\n",
    "user = pd.DataFrame(cur.fetchall())\n",
    "user.columns = [desc[0] for desc in cur.description]\n",
    "user"
   ]
  },
  {
   "cell_type": "code",
   "execution_count": 25,
   "metadata": {},
   "outputs": [
    {
     "data": {
      "text/plain": [
       "'Number of verified user accounts:935 and non_verified account:15863'"
      ]
     },
     "execution_count": 25,
     "metadata": {},
     "output_type": "execute_result"
    }
   ],
   "source": [
    "## Types of user accounts (Verified vs non-verified)\n",
    "#Row sample from the database \n",
    "cur.execute(\"SELECT count(CASE WHEN verified THEN 1 END) FROM user_df;\")\n",
    "verified = cur.fetchall()\n",
    "cur.execute(\"SELECT count(CASE WHEN not verified THEN 0 END) FROM user_df;\")\n",
    "non_verified = cur.fetchall()\n",
    "\n",
    "\"Number of verified user accounts:\" + str(verified[0][0]) + \" and non_verified account:\" + str(non_verified[0][0])"
   ]
  },
  {
   "cell_type": "markdown",
   "metadata": {},
   "source": [
    "### Queries based on only user data"
   ]
  },
  {
   "cell_type": "code",
   "execution_count": 18,
   "metadata": {},
   "outputs": [
    {
     "data": {
      "text/html": [
       "<div>\n",
       "<style scoped>\n",
       "    .dataframe tbody tr th:only-of-type {\n",
       "        vertical-align: middle;\n",
       "    }\n",
       "\n",
       "    .dataframe tbody tr th {\n",
       "        vertical-align: top;\n",
       "    }\n",
       "\n",
       "    .dataframe thead th {\n",
       "        text-align: right;\n",
       "    }\n",
       "</style>\n",
       "<table border=\"1\" class=\"dataframe\">\n",
       "  <thead>\n",
       "    <tr style=\"text-align: right;\">\n",
       "      <th></th>\n",
       "      <th>user_id</th>\n",
       "      <th>name</th>\n",
       "      <th>location</th>\n",
       "      <th>followers_count</th>\n",
       "    </tr>\n",
       "  </thead>\n",
       "  <tbody>\n",
       "    <tr>\n",
       "      <th>0</th>\n",
       "      <td>807095</td>\n",
       "      <td>The New York Times</td>\n",
       "      <td>New York City</td>\n",
       "      <td>46425645</td>\n",
       "    </tr>\n",
       "    <tr>\n",
       "      <th>1</th>\n",
       "      <td>1652541</td>\n",
       "      <td>Reuters</td>\n",
       "      <td>Around the world</td>\n",
       "      <td>21866712</td>\n",
       "    </tr>\n",
       "    <tr>\n",
       "      <th>2</th>\n",
       "      <td>1652541</td>\n",
       "      <td>Reuters</td>\n",
       "      <td>Around the world</td>\n",
       "      <td>21866711</td>\n",
       "    </tr>\n",
       "    <tr>\n",
       "      <th>3</th>\n",
       "      <td>1652541</td>\n",
       "      <td>Reuters</td>\n",
       "      <td>Around the world</td>\n",
       "      <td>21866710</td>\n",
       "    </tr>\n",
       "    <tr>\n",
       "      <th>4</th>\n",
       "      <td>1652541</td>\n",
       "      <td>Reuters</td>\n",
       "      <td>Around the world</td>\n",
       "      <td>21866710</td>\n",
       "    </tr>\n",
       "  </tbody>\n",
       "</table>\n",
       "</div>"
      ],
      "text/plain": [
       "   user_id                name          location  followers_count\n",
       "0   807095  The New York Times     New York City         46425645\n",
       "1  1652541             Reuters  Around the world         21866712\n",
       "2  1652541             Reuters  Around the world         21866711\n",
       "3  1652541             Reuters  Around the world         21866710\n",
       "4  1652541             Reuters  Around the world         21866710"
      ]
     },
     "execution_count": 18,
     "metadata": {},
     "output_type": "execute_result"
    }
   ],
   "source": [
    "# Top N users and their location based on\n",
    "# Status_count\n",
    "# Favourites_count\n",
    "# Followers_count\n",
    "\n",
    "cur.execute(\"select user_id, name, location, statuses_count from user_df order by statuses_count desc limit 5\")\n",
    "top_n_statuses_count = pd.DataFrame(cur.fetchall())\n",
    "top_n_statuses_count.columns = [desc[0] for desc in cur.description]\n",
    "top_n_statuses_count\n",
    "\n",
    "cur.execute(\"select user_id, name, location, favourites_count from user_df order by favourites_count desc limit 5\")\n",
    "top_n_favourites_count = pd.DataFrame(cur.fetchall())\n",
    "top_n_favourites_count.columns = [desc[0] for desc in cur.description]\n",
    "top_n_favourites_count\n",
    "\n",
    "cur.execute(\"select user_id, name, location, followers_count from user_df order by followers_count desc limit 5;\")\n",
    "top_n_followers_count = pd.DataFrame(cur.fetchall())\n",
    "top_n_followers_count.columns = [desc[0] for desc in cur.description]\n",
    "top_n_followers_count"
   ]
  },
  {
   "cell_type": "code",
   "execution_count": 23,
   "metadata": {},
   "outputs": [],
   "source": [
    "#Close the cursor and connection to the database\n",
    "cur.close()\n",
    "conn.close()"
   ]
  },
  {
   "cell_type": "markdown",
   "metadata": {},
   "source": [
    "## MongoDB"
   ]
  },
  {
   "cell_type": "code",
   "execution_count": 27,
   "metadata": {},
   "outputs": [],
   "source": [
    "#Connect to the mongoDB database\n",
    "client = pymongo.MongoClient()\n",
    "db = client[\"tweet_database\"]\n",
    "tweets = db.tweets_collection"
   ]
  },
  {
   "cell_type": "code",
   "execution_count": 28,
   "metadata": {},
   "outputs": [
    {
     "data": {
      "text/plain": [
       "{'_id': ObjectId('5ea9c38017dfdac82a918317'),\n",
       " 'id': 1255560342383603721,\n",
       " 'user_name': 'Lean Consultancy',\n",
       " 'user_id': '990868256360751104',\n",
       " 'content': '@Growth_Lean &gt;&gt; U.S. pending home sales fall sharply in March https://t.co/8Lud9zsELG #lean https://t.co/k6PzFSfL1S',\n",
       " 'created_at': '2020-04-29 18:11:27',\n",
       " 'location': 'Europe',\n",
       " 'hashtags': ['lean'],\n",
       " 'mentions': ['990868256360751104'],\n",
       " 'in_reply_to_user_id': 990868256360751104,\n",
       " 'in_reply_to_status_id': None,\n",
       " 'retweedt_orid_tweetID': -1,\n",
       " 'retweetedFrom_id': -1,\n",
       " 'retweetedFrom_name': 'NA',\n",
       " 'media': ['https://t.co/k6PzFSfL1S'],\n",
       " 'retweet': False,\n",
       " 'FavCount': 0,\n",
       " 'Orig_retweet_fav': -1,\n",
       " 'source': 'Twibble.io',\n",
       " 'retweet_count': 0,\n",
       " 'lang': 'en'}"
      ]
     },
     "execution_count": 28,
     "metadata": {},
     "output_type": "execute_result"
    }
   ],
   "source": [
    "#Document(row) sample from the mongoDB database \n",
    "myquery = {}\n",
    "mydoc = list(tweets.find(myquery))\n",
    "mydoc[0]"
   ]
  },
  {
   "cell_type": "markdown",
   "metadata": {},
   "source": [
    "### About data"
   ]
  },
  {
   "cell_type": "code",
   "execution_count": 9,
   "metadata": {},
   "outputs": [
    {
     "data": {
      "text/plain": [
       "'Number of original tweet:3306 and number of retweets:12123'"
      ]
     },
     "execution_count": 9,
     "metadata": {},
     "output_type": "execute_result"
    }
   ],
   "source": [
    "## Types of tweets\n",
    "count_retweet = tweets.count_documents({\"retweet\":True})\n",
    "count_original = tweets.count_documents({\"retweet\":False})\n",
    "\"Number of original tweet:\" + str(count_original) + \" and number of retweets:\" + str(count_retweet)"
   ]
  },
  {
   "cell_type": "code",
   "execution_count": 10,
   "metadata": {},
   "outputs": [
    {
     "data": {
      "text/plain": [
       "{'text': 14738, 'Only_image': 0, 'both': 691}"
      ]
     },
     "execution_count": 10,
     "metadata": {},
     "output_type": "execute_result"
    }
   ],
   "source": [
    "## Type of media in our dataset\n",
    "type_count = {\"text\": 0, \"Only_image\":0, \"both\":0}\n",
    "for tweet in tweets.find():\n",
    "    md = tweet[\"media\"]\n",
    "    if len(md) != 0:\n",
    "        if tweet[\"content\"] == \"\":\n",
    "            type_count[\"image\"] += 1 # Only Image\n",
    "        else:\n",
    "            type_count[\"both\"] += 1 # Image and text\n",
    "    else:\n",
    "        type_count[\"text\"] += 1 # Only text\n",
    "\n",
    "type_count"
   ]
  },
  {
   "cell_type": "code",
   "execution_count": 15,
   "metadata": {},
   "outputs": [
    {
     "name": "stdout",
     "output_type": "stream",
     "text": [
      "14040 distinct user out of 15429 total user\n"
     ]
    },
    {
     "name": "stderr",
     "output_type": "stream",
     "text": [
      "C:\\Users\\Tejes\\Anaconda3\\lib\\site-packages\\ipykernel_launcher.py:7: DeprecationWarning: count is deprecated. Use estimated_document_count or count_documents instead. Please note that $where must be replaced by $expr, $near must be replaced by $geoWithin with $center, and $nearSphere must be replaced by $geoWithin with $centerSphere\n",
      "  import sys\n"
     ]
    }
   ],
   "source": [
    "## Number of distint user in database\n",
    "distinct_users = set()\n",
    "\n",
    "for tweet in tweets.find():\n",
    "    distinct_users.add(tweet['user_id'])\n",
    "\n",
    "print(\"{} distinct user out of {} total user\".format(len(distinct_users), tweets.count()))"
   ]
  },
  {
   "cell_type": "code",
   "execution_count": 16,
   "metadata": {},
   "outputs": [
    {
     "name": "stdout",
     "output_type": "stream",
     "text": [
      "12676\n"
     ]
    },
    {
     "data": {
      "text/plain": [
       "{'_id': ObjectId('5ea77dc7c9283bc56a270ebc'),\n",
       " 'id_str': '1254112304754556929',\n",
       " 'user_name': 'J',\n",
       " 'user_id': '785827332',\n",
       " 'content': \"3 companies with ties to the Trump admin. received millions under the PPP program. Another got a loan from a bank that once employed its board's chair. https://t.co/GcgqwGPe43\",\n",
       " 'created_at': '2020-04-25 18:17:28',\n",
       " 'location': 'The World',\n",
       " 'hashtags': [],\n",
       " 'mentions': ['14173315'],\n",
       " 'in_reply_to_user_id': None,\n",
       " 'in_reply_to_status_id': None,\n",
       " 'retweetedFrom': '14173315',\n",
       " 'media': [],\n",
       " 'retweet': True,\n",
       " 'FavCount': -1,\n",
       " 'source': 'Twitter for iPhone',\n",
       " 'retweet_count': 12676}"
      ]
     },
     "execution_count": 16,
     "metadata": {},
     "output_type": "execute_result"
    }
   ],
   "source": [
    "## Tweet with  maximum retweet count\n",
    "max_retweet_count = 0\n",
    "for tweet in tweets.find():\n",
    "    if tweet['retweet_count']>max_retweet_count:\n",
    "        max_retweet_count = tweet['retweet_count']\n",
    "        tweet_id = tweet['id_str']\n",
    "print(max_retweet_count)\n",
    "\n",
    "myquery = {'id_str': tweet_id}\n",
    "twts = list(tweets.find(myquery))\n",
    "twts[0]"
   ]
  },
  {
   "cell_type": "code",
   "execution_count": 17,
   "metadata": {},
   "outputs": [
    {
     "name": "stdout",
     "output_type": "stream",
     "text": [
      "4708\n"
     ]
    },
    {
     "data": {
      "text/plain": [
       "{'_id': ObjectId('5ea77daec9283bc56a2709fb'),\n",
       " 'id_str': '1254168393638449153',\n",
       " 'user_name': 'POLITICO',\n",
       " 'user_id': '9300262',\n",
       " 'content': 'Dr. Anthony Fauci says the U.S. should at least double coronavirus testing in the coming weeks before easing into reopening the economy https://t.co/9LrRsvl1qX',\n",
       " 'created_at': '2020-04-25 22:00:21',\n",
       " 'location': 'Washington, D.C.',\n",
       " 'hashtags': [],\n",
       " 'mentions': [],\n",
       " 'in_reply_to_user_id': None,\n",
       " 'in_reply_to_status_id': None,\n",
       " 'retweetedFrom': -1,\n",
       " 'media': [],\n",
       " 'retweet': False,\n",
       " 'FavCount': 4708,\n",
       " 'source': 'Hootsuite Inc.',\n",
       " 'retweet_count': 1752}"
      ]
     },
     "execution_count": 17,
     "metadata": {},
     "output_type": "execute_result"
    }
   ],
   "source": [
    "## Tweet with  maximum favorite count\n",
    "max_FavCount = 0\n",
    "for tweet in tweets.find():\n",
    "    if tweet['FavCount']>max_FavCount:\n",
    "        max_FavCount = tweet['FavCount']\n",
    "        tweet_id = tweet['id_str']\n",
    "print(max_FavCount)\n",
    "\n",
    "myquery = {'id_str': tweet_id}\n",
    "twts = list(tweets.find(myquery))\n",
    "twts[0]"
   ]
  },
  {
   "cell_type": "markdown",
   "metadata": {},
   "source": [
    "### Search by word"
   ]
  },
  {
   "cell_type": "code",
   "execution_count": 4,
   "metadata": {},
   "outputs": [
    {
     "data": {
      "text/plain": [
       "413"
      ]
     },
     "execution_count": 4,
     "metadata": {},
     "output_type": "execute_result"
    }
   ],
   "source": [
    "#Find number of tweets with word\n",
    "myquery = {\"content\":{\"$regex\":\"covid19\",\"$options\" :'i'}}\n",
    "tweets.count_documents(myquery)"
   ]
  },
  {
   "cell_type": "code",
   "execution_count": 5,
   "metadata": {},
   "outputs": [
    {
     "data": {
      "text/plain": [
       "{'_id': ObjectId('5ea66a14fb8f5ff7fd4712a9'),\n",
       " 'id_str': '1254636770051928071',\n",
       " 'user_name': 'Pamela Moore #WWG1WGA #DIGITALSOLDIERS',\n",
       " 'user_id': '1188695886781698050',\n",
       " 'content': 'Met virtually with our terrific @AmChamPH Board on how U.S. firms are supporting the Philippine economy, workforce, and #COVID19 response. We’re all in this together, and great to \\u200bsee U.S. firms contributing in so many ways. #FriendsPartnersAllies #goodbUSinessPH',\n",
       " 'created_at': '2020-04-27 05:01:30',\n",
       " 'location': 'Broken Arrow, OK',\n",
       " 'hashtags': [],\n",
       " 'mentions': ['441540997', '4745918652'],\n",
       " 'in_reply_to_user_id': None,\n",
       " 'in_reply_to_status_id': None,\n",
       " 'retweetedFrom': '441540997',\n",
       " 'media': [],\n",
       " 'retweet': True,\n",
       " 'FavCount': -1,\n",
       " 'source': 'Twitter for Android',\n",
       " 'retweet_count': 118}"
      ]
     },
     "execution_count": 5,
     "metadata": {},
     "output_type": "execute_result"
    }
   ],
   "source": [
    "#Tweets\n",
    "twts = list(tweets.find(myquery))\n",
    "twts[0]"
   ]
  },
  {
   "cell_type": "markdown",
   "metadata": {},
   "source": [
    "### Search by a hashtag"
   ]
  },
  {
   "cell_type": "code",
   "execution_count": 8,
   "metadata": {},
   "outputs": [
    {
     "data": {
      "text/plain": [
       "{'_id': ObjectId('5ea66a14fb8f5ff7fd4712a9'),\n",
       " 'id_str': '1254636770051928071',\n",
       " 'user_name': 'Pamela Moore #WWG1WGA #DIGITALSOLDIERS',\n",
       " 'user_id': '1188695886781698050',\n",
       " 'content': 'Met virtually with our terrific @AmChamPH Board on how U.S. firms are supporting the Philippine economy, workforce, and #COVID19 response. We’re all in this together, and great to \\u200bsee U.S. firms contributing in so many ways. #FriendsPartnersAllies #goodbUSinessPH',\n",
       " 'created_at': '2020-04-27 05:01:30',\n",
       " 'location': 'Broken Arrow, OK',\n",
       " 'hashtags': [],\n",
       " 'mentions': ['441540997', '4745918652'],\n",
       " 'in_reply_to_user_id': None,\n",
       " 'in_reply_to_status_id': None,\n",
       " 'retweetedFrom': '441540997',\n",
       " 'media': [],\n",
       " 'retweet': True,\n",
       " 'FavCount': -1,\n",
       " 'source': 'Twitter for Android',\n",
       " 'retweet_count': 118}"
      ]
     },
     "execution_count": 8,
     "metadata": {},
     "output_type": "execute_result"
    }
   ],
   "source": [
    "# #Find number of tweets with #covid19 (Exact string put the specified string between the ^(Starts with) and $(Ends with))\n",
    "# myquery = {\"hashtags\":{\"$regex\":\"^covid19$\",\"$options\" :'i'}}\n",
    "#Search using a hashtag.\n",
    "myquery = {\"content\":{\"$regex\":\"#covid19\",\"$options\" :'i'}}\n",
    "twts = list(tweets.find(myquery))\n",
    "twts[0]"
   ]
  },
  {
   "cell_type": "code",
   "execution_count": 9,
   "metadata": {},
   "outputs": [
    {
     "data": {
      "text/plain": [
       "397"
      ]
     },
     "execution_count": 9,
     "metadata": {},
     "output_type": "execute_result"
    }
   ],
   "source": [
    "len(twts)"
   ]
  },
  {
   "cell_type": "markdown",
   "metadata": {},
   "source": [
    "### Search by time range"
   ]
  },
  {
   "cell_type": "code",
   "execution_count": 31,
   "metadata": {},
   "outputs": [
    {
     "data": {
      "text/plain": [
       "{'_id': ObjectId('5ea9c38017dfdac82a918317'),\n",
       " 'id': 1255560342383603721,\n",
       " 'user_name': 'Lean Consultancy',\n",
       " 'user_id': '990868256360751104',\n",
       " 'content': '@Growth_Lean &gt;&gt; U.S. pending home sales fall sharply in March https://t.co/8Lud9zsELG #lean https://t.co/k6PzFSfL1S',\n",
       " 'created_at': '2020-04-29 18:11:27',\n",
       " 'location': 'Europe',\n",
       " 'hashtags': ['lean'],\n",
       " 'mentions': ['990868256360751104'],\n",
       " 'in_reply_to_user_id': 990868256360751104,\n",
       " 'in_reply_to_status_id': None,\n",
       " 'retweedt_orid_tweetID': -1,\n",
       " 'retweetedFrom_id': -1,\n",
       " 'retweetedFrom_name': 'NA',\n",
       " 'media': ['https://t.co/k6PzFSfL1S'],\n",
       " 'retweet': False,\n",
       " 'FavCount': 0,\n",
       " 'Orig_retweet_fav': -1,\n",
       " 'source': 'Twibble.io',\n",
       " 'retweet_count': 0,\n",
       " 'lang': 'en'}"
      ]
     },
     "execution_count": 31,
     "metadata": {},
     "output_type": "execute_result"
    }
   ],
   "source": [
    "# Search by Time range\n",
    "twts = tweets.find({\"created_at\":{ \"$gte\": \"2020-04-27 05:13:10\", \"$lt\": \"2020-04-30 05:13:50\" }})\n",
    "twts = list(twts)\n",
    "twts[0]"
   ]
  },
  {
   "cell_type": "code",
   "execution_count": 32,
   "metadata": {},
   "outputs": [
    {
     "data": {
      "text/plain": [
       "16898"
      ]
     },
     "execution_count": 32,
     "metadata": {},
     "output_type": "execute_result"
    }
   ],
   "source": [
    "len(twts)"
   ]
  },
  {
   "cell_type": "markdown",
   "metadata": {},
   "source": [
    "### Search by user name"
   ]
  },
  {
   "cell_type": "code",
   "execution_count": 12,
   "metadata": {},
   "outputs": [
    {
     "data": {
      "text/plain": [
       "{'_id': ObjectId('5ea66a14fb8f5ff7fd471282'),\n",
       " 'id_str': '1254639809068519424',\n",
       " 'user_name': 'Howard',\n",
       " 'user_id': '2337724718',\n",
       " 'content': 'U.S.: bailout small businesses by giving grants to 5% of them\\n\\nJapan: bailout small businesses by giving 100% of them all the payroll money they need\\nhttps://t.co/10BjEDjjn3',\n",
       " 'created_at': '2020-04-27 05:13:35',\n",
       " 'location': 'New York, NY',\n",
       " 'hashtags': [],\n",
       " 'mentions': ['2172596028'],\n",
       " 'in_reply_to_user_id': None,\n",
       " 'in_reply_to_status_id': None,\n",
       " 'retweetedFrom': '2172596028',\n",
       " 'media': [],\n",
       " 'retweet': True,\n",
       " 'FavCount': -1,\n",
       " 'source': 'Twitter for iPhone',\n",
       " 'retweet_count': 240}"
      ]
     },
     "execution_count": 12,
     "metadata": {},
     "output_type": "execute_result"
    }
   ],
   "source": [
    "# Search by user_name\n",
    "twts = tweets.find({\"user_name\":\"Howard\"})\n",
    "twts = list(twts)\n",
    "twts[0]"
   ]
  },
  {
   "cell_type": "code",
   "execution_count": 13,
   "metadata": {},
   "outputs": [
    {
     "data": {
      "text/plain": [
       "1"
      ]
     },
     "execution_count": 13,
     "metadata": {},
     "output_type": "execute_result"
    }
   ],
   "source": [
    "len(twts)"
   ]
  },
  {
   "cell_type": "markdown",
   "metadata": {},
   "source": [
    "### Search by user_id"
   ]
  },
  {
   "cell_type": "code",
   "execution_count": 14,
   "metadata": {},
   "outputs": [
    {
     "data": {
      "text/plain": [
       "{'_id': ObjectId('5ea66a14fb8f5ff7fd471280'),\n",
       " 'id_str': '1254639872641576960',\n",
       " 'user_name': 'Xcntrik',\n",
       " 'user_id': '123628682',\n",
       " 'content': 'Many U.S. businesses unlikely to seek government aid: NABE survey https://t.co/9bPT4YQN5I https://t.co/0B3ekpqymK',\n",
       " 'created_at': '2020-04-27 05:13:50',\n",
       " 'location': 'Southeast Texas',\n",
       " 'hashtags': [],\n",
       " 'mentions': ['1652541'],\n",
       " 'in_reply_to_user_id': None,\n",
       " 'in_reply_to_status_id': None,\n",
       " 'retweetedFrom': '1652541',\n",
       " 'media': ['https://t.co/0B3ekpqymK'],\n",
       " 'retweet': True,\n",
       " 'FavCount': -1,\n",
       " 'source': 'Twitter for Android',\n",
       " 'retweet_count': 7}"
      ]
     },
     "execution_count": 14,
     "metadata": {},
     "output_type": "execute_result"
    }
   ],
   "source": [
    "# Search by user id\n",
    "twts = tweets.find({\"user_id\":\"123628682\"})\n",
    "twts = list(twts)\n",
    "twts[0]"
   ]
  },
  {
   "cell_type": "code",
   "execution_count": 15,
   "metadata": {},
   "outputs": [
    {
     "data": {
      "text/plain": [
       "2"
      ]
     },
     "execution_count": 15,
     "metadata": {},
     "output_type": "execute_result"
    }
   ],
   "source": [
    "len(twts)"
   ]
  },
  {
   "cell_type": "markdown",
   "metadata": {},
   "source": [
    "### Search by two words"
   ]
  },
  {
   "cell_type": "code",
   "execution_count": 16,
   "metadata": {},
   "outputs": [
    {
     "data": {
      "text/plain": [
       "{'_id': ObjectId('5ea66a1ffb8f5ff7fd47154e'),\n",
       " 'id_str': '1254579387464212487',\n",
       " 'user_name': 'J Cassidy',\n",
       " 'user_id': '718527880284610561',\n",
       " 'content': \"@realDonaldTrump Read the Constitution. You're embarrassing yourself again... #Trump #coronavirus #COVID19  https://t.co/bCRHRusB3I\",\n",
       " 'created_at': '2020-04-27 01:13:29',\n",
       " 'location': '',\n",
       " 'hashtags': ['Trump', 'coronavirus', 'COVID19'],\n",
       " 'mentions': ['123281100', '25073877'],\n",
       " 'in_reply_to_user_id': None,\n",
       " 'in_reply_to_status_id': None,\n",
       " 'retweetedFrom': '123281100',\n",
       " 'media': [],\n",
       " 'retweet': True,\n",
       " 'FavCount': -1,\n",
       " 'source': 'Twitter Web App',\n",
       " 'retweet_count': 826}"
      ]
     },
     "execution_count": 16,
     "metadata": {},
     "output_type": "execute_result"
    }
   ],
   "source": [
    "#search by two words\n",
    "twts = tweets.find( {\n",
    "    \"$and\" : [\n",
    "        {\"content\":{\"$regex\":\"covid19\",\"$options\" :'i'}} , {\"content\":{\"$regex\":\"#trump\",\"$options\" :'i'}}\n",
    "    ]\n",
    "} )\n",
    "twts = list(twts)\n",
    "twts[0]"
   ]
  },
  {
   "cell_type": "code",
   "execution_count": 17,
   "metadata": {},
   "outputs": [
    {
     "data": {
      "text/plain": [
       "9"
      ]
     },
     "execution_count": 17,
     "metadata": {},
     "output_type": "execute_result"
    }
   ],
   "source": [
    "len(twts)"
   ]
  },
  {
   "cell_type": "markdown",
   "metadata": {},
   "source": [
    "### Top five hashtags used"
   ]
  },
  {
   "cell_type": "code",
   "execution_count": 18,
   "metadata": {
    "scrolled": true
   },
   "outputs": [
    {
     "data": {
      "text/html": [
       "<div>\n",
       "<style scoped>\n",
       "    .dataframe tbody tr th:only-of-type {\n",
       "        vertical-align: middle;\n",
       "    }\n",
       "\n",
       "    .dataframe tbody tr th {\n",
       "        vertical-align: top;\n",
       "    }\n",
       "\n",
       "    .dataframe thead th {\n",
       "        text-align: right;\n",
       "    }\n",
       "</style>\n",
       "<table border=\"1\" class=\"dataframe\">\n",
       "  <thead>\n",
       "    <tr style=\"text-align: right;\">\n",
       "      <th></th>\n",
       "      <th>count</th>\n",
       "    </tr>\n",
       "  </thead>\n",
       "  <tbody>\n",
       "    <tr>\n",
       "      <th>covid19</th>\n",
       "      <td>222</td>\n",
       "    </tr>\n",
       "    <tr>\n",
       "      <th>trump2020</th>\n",
       "      <td>213</td>\n",
       "    </tr>\n",
       "    <tr>\n",
       "      <th>2a41a</th>\n",
       "      <td>209</td>\n",
       "    </tr>\n",
       "    <tr>\n",
       "      <th>veterans</th>\n",
       "      <td>209</td>\n",
       "    </tr>\n",
       "    <tr>\n",
       "      <th>alwayssupportourveterans</th>\n",
       "      <td>209</td>\n",
       "    </tr>\n",
       "  </tbody>\n",
       "</table>\n",
       "</div>"
      ],
      "text/plain": [
       "                          count\n",
       "covid19                     222\n",
       "trump2020                   213\n",
       "2a41a                       209\n",
       "veterans                    209\n",
       "alwayssupportourveterans    209"
      ]
     },
     "execution_count": 18,
     "metadata": {},
     "output_type": "execute_result"
    }
   ],
   "source": [
    "hashtag_count = {}\n",
    "for tweet in tweets.find({\"hashtags\":{\"$ne\":[]}},{\"hashtags\":1, \"_id\":0}):\n",
    "    ht = tweet[\"hashtags\"]\n",
    "    for hash in ht:\n",
    "        hash = hash.lower()\n",
    "        if hash not in hashtag_count:\n",
    "            hashtag_count[hash] = 1\n",
    "        else:\n",
    "            hashtag_count[hash] += 1\n",
    "hashtags = pd.DataFrame.from_dict(hashtag_count, orient='index')\n",
    "hashtags = hashtags.rename(columns={0:\"count\"})\n",
    "hashtags = hashtags.sort_values(\"count\", ascending=False)\n",
    "hashtags.head(5)"
   ]
  },
  {
   "cell_type": "code",
   "execution_count": null,
   "metadata": {},
   "outputs": [],
   "source": [
    "client.close()"
   ]
  },
  {
   "cell_type": "markdown",
   "metadata": {},
   "source": [
    "## Queries based on MongoDB and postgreSQL"
   ]
  },
  {
   "cell_type": "code",
   "execution_count": 14,
   "metadata": {},
   "outputs": [],
   "source": [
    "#Connect to postgreSQL\n",
    "conn = psycopg2.connect(host=\"localhost\", port = 5432, database=\"twitter\", user=\"postgres\", password=\"postgres@329\")\n",
    "cur = conn.cursor()"
   ]
  },
  {
   "cell_type": "code",
   "execution_count": 3,
   "metadata": {},
   "outputs": [],
   "source": [
    "#Connect to MongoDB\n",
    "client = pymongo.MongoClient()\n",
    "db = client[\"tweet_database\"]\n",
    "tweets = db.tweets_collection"
   ]
  },
  {
   "cell_type": "markdown",
   "metadata": {},
   "source": [
    "### Original user of maximum retweeted tweet"
   ]
  },
  {
   "cell_type": "code",
   "execution_count": 4,
   "metadata": {},
   "outputs": [
    {
     "data": {
      "text/plain": [
       "[{'user_name': 'The_War_Economy', 'user_id': '856978948965769220'}]"
      ]
     },
     "execution_count": 4,
     "metadata": {},
     "output_type": "execute_result"
    }
   ],
   "source": [
    "#Original user of maximum retweeted tweet\n",
    "twts = list(tweets.find({\"retweet\": {\"$ne\": False}},{\"user_id\":1, \"user_name\":1, \"_id\":0}).sort(\"retweet_count\",-1).limit(1))\n",
    "twts"
   ]
  },
  {
   "cell_type": "markdown",
   "metadata": {},
   "source": [
    "### What is the location of Maximum tweets."
   ]
  },
  {
   "cell_type": "code",
   "execution_count": 5,
   "metadata": {},
   "outputs": [],
   "source": [
    "#Location of maximum tweets\n",
    "user_twt_count = pd.DataFrame(tweets.aggregate([\n",
    "  {\n",
    "    \"$group\": {\n",
    "       \"_id\": \"$user_id\",\n",
    "       \"count\": { \"$sum\": 1 }\n",
    "    }\n",
    "  }\n",
    "]))\n",
    "user_twt_count.columns = [\"user_id\",\"count\"]\n",
    "user_twt_count = user_twt_count.astype({'user_id': 'int64'})"
   ]
  },
  {
   "cell_type": "code",
   "execution_count": 6,
   "metadata": {},
   "outputs": [],
   "source": [
    "cur.execute(\"SELECT user_id,location FROM user_df where location <> '';\")\n",
    "user_loc = pd.DataFrame(cur.fetchall())\n",
    "user_loc.columns = [desc[0] for desc in cur.description]"
   ]
  },
  {
   "cell_type": "code",
   "execution_count": 7,
   "metadata": {},
   "outputs": [
    {
     "data": {
      "text/plain": [
       "'United States'"
      ]
     },
     "execution_count": 7,
     "metadata": {},
     "output_type": "execute_result"
    }
   ],
   "source": [
    "loc_df = pd.merge(user_loc,user_twt_count,on=\"user_id\")\n",
    "loc_df = loc_df[[\"location\",\"count\"]].groupby(\"location\").count()\n",
    "loc_df.index[loc_df[\"count\"].argmax()]"
   ]
  },
  {
   "cell_type": "markdown",
   "metadata": {},
   "source": [
    "### Tweet with given keyword, hashtag and threshold on number of followers."
   ]
  },
  {
   "cell_type": "code",
   "execution_count": 21,
   "metadata": {},
   "outputs": [],
   "source": [
    "cur.execute(\"SELECT user_id,followers_count FROM user_df where followers_count > 100 order by followers_count desc;\")\n",
    "users = pd.DataFrame(cur.fetchall())\n",
    "users.columns = [desc[0] for desc in cur.description]"
   ]
  },
  {
   "cell_type": "code",
   "execution_count": 23,
   "metadata": {},
   "outputs": [
    {
     "data": {
      "text/html": [
       "<div>\n",
       "<style scoped>\n",
       "    .dataframe tbody tr th:only-of-type {\n",
       "        vertical-align: middle;\n",
       "    }\n",
       "\n",
       "    .dataframe tbody tr th {\n",
       "        vertical-align: top;\n",
       "    }\n",
       "\n",
       "    .dataframe thead th {\n",
       "        text-align: right;\n",
       "    }\n",
       "</style>\n",
       "<table border=\"1\" class=\"dataframe\">\n",
       "  <thead>\n",
       "    <tr style=\"text-align: right;\">\n",
       "      <th></th>\n",
       "      <th>user_id</th>\n",
       "      <th>followers_count</th>\n",
       "      <th>id</th>\n",
       "      <th>user_name</th>\n",
       "      <th>content</th>\n",
       "      <th>created_at</th>\n",
       "      <th>location</th>\n",
       "      <th>hashtags</th>\n",
       "      <th>mentions</th>\n",
       "      <th>in_reply_to_user_id</th>\n",
       "      <th>...</th>\n",
       "      <th>retweedt_orid_tweetID</th>\n",
       "      <th>retweetedFrom_id</th>\n",
       "      <th>retweetedFrom_name</th>\n",
       "      <th>media</th>\n",
       "      <th>retweet</th>\n",
       "      <th>FavCount</th>\n",
       "      <th>Orig_retweet_fav</th>\n",
       "      <th>source</th>\n",
       "      <th>retweet_count</th>\n",
       "      <th>lang</th>\n",
       "    </tr>\n",
       "  </thead>\n",
       "  <tbody>\n",
       "    <tr>\n",
       "      <th>0</th>\n",
       "      <td>3565028294</td>\n",
       "      <td>8056</td>\n",
       "      <td>1255491197415706624</td>\n",
       "      <td>Jose Enriquez</td>\n",
       "      <td>Much of U.S. economy still plugging along desp...</td>\n",
       "      <td>2020-04-29 13:36:42</td>\n",
       "      <td></td>\n",
       "      <td>[coronavirus, COVID19]</td>\n",
       "      <td>[3565028294, 25073877]</td>\n",
       "      <td>NaN</td>\n",
       "      <td>...</td>\n",
       "      <td>1255480003871027200</td>\n",
       "      <td>3565028294</td>\n",
       "      <td>972_834</td>\n",
       "      <td>[]</td>\n",
       "      <td>True</td>\n",
       "      <td>0</td>\n",
       "      <td>2</td>\n",
       "      <td>Twitter for Android</td>\n",
       "      <td>1</td>\n",
       "      <td>en</td>\n",
       "    </tr>\n",
       "    <tr>\n",
       "      <th>1</th>\n",
       "      <td>3565028294</td>\n",
       "      <td>8056</td>\n",
       "      <td>1255480003871027200</td>\n",
       "      <td>Jose Enriquez</td>\n",
       "      <td>Much of U.S. economy still plugging along desp...</td>\n",
       "      <td>2020-04-29 12:52:13</td>\n",
       "      <td></td>\n",
       "      <td>[coronavirus, COVID19, COVID19, MAGA, KAG2020,...</td>\n",
       "      <td>[25073877]</td>\n",
       "      <td>NaN</td>\n",
       "      <td>...</td>\n",
       "      <td>-1</td>\n",
       "      <td>-1</td>\n",
       "      <td>NA</td>\n",
       "      <td>[]</td>\n",
       "      <td>False</td>\n",
       "      <td>2</td>\n",
       "      <td>-1</td>\n",
       "      <td>Twitter for Android</td>\n",
       "      <td>1</td>\n",
       "      <td>en</td>\n",
       "    </tr>\n",
       "    <tr>\n",
       "      <th>2</th>\n",
       "      <td>70132768</td>\n",
       "      <td>6314</td>\n",
       "      <td>1255327046705741826</td>\n",
       "      <td>Tinamarief49</td>\n",
       "      <td>@IngrahamAngle so let me get this straight, al...</td>\n",
       "      <td>2020-04-29 02:44:25</td>\n",
       "      <td></td>\n",
       "      <td>[COVID19, TrumpLiesAmericansDie, TrumpLiesPeop...</td>\n",
       "      <td>[50769180]</td>\n",
       "      <td>5.076918e+07</td>\n",
       "      <td>...</td>\n",
       "      <td>-1</td>\n",
       "      <td>-1</td>\n",
       "      <td>NA</td>\n",
       "      <td>[]</td>\n",
       "      <td>False</td>\n",
       "      <td>0</td>\n",
       "      <td>-1</td>\n",
       "      <td>Twitter Web App</td>\n",
       "      <td>0</td>\n",
       "      <td>en</td>\n",
       "    </tr>\n",
       "    <tr>\n",
       "      <th>3</th>\n",
       "      <td>1076344051614531584</td>\n",
       "      <td>2778</td>\n",
       "      <td>1255313707418169345</td>\n",
       "      <td>WQ2627 🌟🌟🌟</td>\n",
       "      <td>All U.S. Corporations Including Ford, Delta, A...</td>\n",
       "      <td>2020-04-29 01:51:25</td>\n",
       "      <td>Anonville-Potus45 Pompeo Barr</td>\n",
       "      <td>[QAnon, COVID19, Economy, WWG1WGA, Trump2020]</td>\n",
       "      <td>[]</td>\n",
       "      <td>NaN</td>\n",
       "      <td>...</td>\n",
       "      <td>-1</td>\n",
       "      <td>-1</td>\n",
       "      <td>NA</td>\n",
       "      <td>[]</td>\n",
       "      <td>False</td>\n",
       "      <td>0</td>\n",
       "      <td>-1</td>\n",
       "      <td>Twitter Web App</td>\n",
       "      <td>0</td>\n",
       "      <td>en</td>\n",
       "    </tr>\n",
       "    <tr>\n",
       "      <th>4</th>\n",
       "      <td>92492429</td>\n",
       "      <td>2068</td>\n",
       "      <td>1255156351619260417</td>\n",
       "      <td>JusticeMatters!</td>\n",
       "      <td>@WhiteHouse @realDonaldTrump President @Barack...</td>\n",
       "      <td>2020-04-28 15:26:08</td>\n",
       "      <td>Under God's Grace</td>\n",
       "      <td>[COVIDー19, Trump, COVID19, coronavirus, pandemic]</td>\n",
       "      <td>[822215673812119553, 25073877, 813286]</td>\n",
       "      <td>8.222157e+17</td>\n",
       "      <td>...</td>\n",
       "      <td>-1</td>\n",
       "      <td>-1</td>\n",
       "      <td>NA</td>\n",
       "      <td>[https://t.co/0jGSF6ksOy]</td>\n",
       "      <td>False</td>\n",
       "      <td>0</td>\n",
       "      <td>-1</td>\n",
       "      <td>Twitter for Android</td>\n",
       "      <td>0</td>\n",
       "      <td>en</td>\n",
       "    </tr>\n",
       "  </tbody>\n",
       "</table>\n",
       "<p>5 rows × 21 columns</p>\n",
       "</div>"
      ],
      "text/plain": [
       "               user_id  followers_count                   id        user_name  \\\n",
       "0           3565028294             8056  1255491197415706624    Jose Enriquez   \n",
       "1           3565028294             8056  1255480003871027200    Jose Enriquez   \n",
       "2             70132768             6314  1255327046705741826     Tinamarief49   \n",
       "3  1076344051614531584             2778  1255313707418169345       WQ2627 🌟🌟🌟   \n",
       "4             92492429             2068  1255156351619260417  JusticeMatters!   \n",
       "\n",
       "                                             content           created_at  \\\n",
       "0  Much of U.S. economy still plugging along desp...  2020-04-29 13:36:42   \n",
       "1  Much of U.S. economy still plugging along desp...  2020-04-29 12:52:13   \n",
       "2  @IngrahamAngle so let me get this straight, al...  2020-04-29 02:44:25   \n",
       "3  All U.S. Corporations Including Ford, Delta, A...  2020-04-29 01:51:25   \n",
       "4  @WhiteHouse @realDonaldTrump President @Barack...  2020-04-28 15:26:08   \n",
       "\n",
       "                         location  \\\n",
       "0                                   \n",
       "1                                   \n",
       "2                                   \n",
       "3  Anonville-Potus45 Pompeo Barr    \n",
       "4               Under God's Grace   \n",
       "\n",
       "                                            hashtags  \\\n",
       "0                             [coronavirus, COVID19]   \n",
       "1  [coronavirus, COVID19, COVID19, MAGA, KAG2020,...   \n",
       "2  [COVID19, TrumpLiesAmericansDie, TrumpLiesPeop...   \n",
       "3      [QAnon, COVID19, Economy, WWG1WGA, Trump2020]   \n",
       "4  [COVIDー19, Trump, COVID19, coronavirus, pandemic]   \n",
       "\n",
       "                                 mentions  in_reply_to_user_id  ...  \\\n",
       "0                  [3565028294, 25073877]                  NaN  ...   \n",
       "1                              [25073877]                  NaN  ...   \n",
       "2                              [50769180]         5.076918e+07  ...   \n",
       "3                                      []                  NaN  ...   \n",
       "4  [822215673812119553, 25073877, 813286]         8.222157e+17  ...   \n",
       "\n",
       "   retweedt_orid_tweetID  retweetedFrom_id retweetedFrom_name  \\\n",
       "0    1255480003871027200        3565028294            972_834   \n",
       "1                     -1                -1                 NA   \n",
       "2                     -1                -1                 NA   \n",
       "3                     -1                -1                 NA   \n",
       "4                     -1                -1                 NA   \n",
       "\n",
       "                       media retweet  FavCount  Orig_retweet_fav  \\\n",
       "0                         []    True         0                 2   \n",
       "1                         []   False         2                -1   \n",
       "2                         []   False         0                -1   \n",
       "3                         []   False         0                -1   \n",
       "4  [https://t.co/0jGSF6ksOy]   False         0                -1   \n",
       "\n",
       "                source retweet_count  lang  \n",
       "0  Twitter for Android             1    en  \n",
       "1  Twitter for Android             1    en  \n",
       "2      Twitter Web App             0    en  \n",
       "3      Twitter Web App             0    en  \n",
       "4  Twitter for Android             0    en  \n",
       "\n",
       "[5 rows x 21 columns]"
      ]
     },
     "execution_count": 23,
     "metadata": {},
     "output_type": "execute_result"
    }
   ],
   "source": [
    "# Search by word and hastag\n",
    "twts = pd.DataFrame(tweets.find( {\n",
    "    \"$and\" : [\n",
    "        {\"content\":{\"$regex\":\"covid19\",\"$options\" :'i'}} , {\"content\":{\"$regex\":\"#trump\",\"$options\" :'i'}}\n",
    "    ]\n",
    "}))\n",
    "del twts[\"_id\"]\n",
    "twts = twts.astype({'user_id': 'int64'})\n",
    "\n",
    "twts_df = pd.merge(users,twts,on=\"user_id\")\n",
    "twts_df.head()"
   ]
  },
  {
   "cell_type": "code",
   "execution_count": 24,
   "metadata": {},
   "outputs": [],
   "source": [
    "### Tweet with given keyword, hashtag and a location."
   ]
  },
  {
   "cell_type": "code",
   "execution_count": 31,
   "metadata": {},
   "outputs": [
    {
     "data": {
      "text/html": [
       "<div>\n",
       "<style scoped>\n",
       "    .dataframe tbody tr th:only-of-type {\n",
       "        vertical-align: middle;\n",
       "    }\n",
       "\n",
       "    .dataframe tbody tr th {\n",
       "        vertical-align: top;\n",
       "    }\n",
       "\n",
       "    .dataframe thead th {\n",
       "        text-align: right;\n",
       "    }\n",
       "</style>\n",
       "<table border=\"1\" class=\"dataframe\">\n",
       "  <thead>\n",
       "    <tr style=\"text-align: right;\">\n",
       "      <th></th>\n",
       "      <th>id</th>\n",
       "      <th>user_name</th>\n",
       "      <th>user_id</th>\n",
       "      <th>content</th>\n",
       "      <th>created_at</th>\n",
       "      <th>location</th>\n",
       "      <th>hashtags</th>\n",
       "      <th>mentions</th>\n",
       "      <th>in_reply_to_user_id</th>\n",
       "      <th>in_reply_to_status_id</th>\n",
       "      <th>retweedt_orid_tweetID</th>\n",
       "      <th>retweetedFrom_id</th>\n",
       "      <th>retweetedFrom_name</th>\n",
       "      <th>media</th>\n",
       "      <th>retweet</th>\n",
       "      <th>FavCount</th>\n",
       "      <th>Orig_retweet_fav</th>\n",
       "      <th>source</th>\n",
       "      <th>retweet_count</th>\n",
       "      <th>lang</th>\n",
       "    </tr>\n",
       "  </thead>\n",
       "  <tbody>\n",
       "    <tr>\n",
       "      <th>0</th>\n",
       "      <td>1255258012320743424</td>\n",
       "      <td>Agolo</td>\n",
       "      <td>961384868</td>\n",
       "      <td>The US goods trade deficit widened in March am...</td>\n",
       "      <td>2020-04-28 22:10:06</td>\n",
       "      <td>New York, NY</td>\n",
       "      <td>[pandemic, covid19]</td>\n",
       "      <td>[]</td>\n",
       "      <td>None</td>\n",
       "      <td>None</td>\n",
       "      <td>-1</td>\n",
       "      <td>-1</td>\n",
       "      <td>NA</td>\n",
       "      <td>[]</td>\n",
       "      <td>False</td>\n",
       "      <td>0</td>\n",
       "      <td>-1</td>\n",
       "      <td>Hootsuite Inc.</td>\n",
       "      <td>0</td>\n",
       "      <td>en</td>\n",
       "    </tr>\n",
       "    <tr>\n",
       "      <th>1</th>\n",
       "      <td>1255027876086403072</td>\n",
       "      <td>Great White Sharkℹ</td>\n",
       "      <td>45536016</td>\n",
       "      <td>#COVID19Nigeria  #Plandemic as done 10, + 10 y...</td>\n",
       "      <td>2020-04-28 06:55:37</td>\n",
       "      <td>New York, USA</td>\n",
       "      <td>[COVID19Nigeria, Plandemic]</td>\n",
       "      <td>[2936714848]</td>\n",
       "      <td>None</td>\n",
       "      <td>None</td>\n",
       "      <td>-1</td>\n",
       "      <td>-1</td>\n",
       "      <td>NA</td>\n",
       "      <td>[]</td>\n",
       "      <td>False</td>\n",
       "      <td>1</td>\n",
       "      <td>-1</td>\n",
       "      <td>Twitter for Android</td>\n",
       "      <td>0</td>\n",
       "      <td>en</td>\n",
       "    </tr>\n",
       "    <tr>\n",
       "      <th>2</th>\n",
       "      <td>1254919002842730496</td>\n",
       "      <td>Wonder Media Network</td>\n",
       "      <td>1021752303978725377</td>\n",
       "      <td>Gender equity will play a critical role in hel...</td>\n",
       "      <td>2020-04-27 23:43:00</td>\n",
       "      <td>New York, NY</td>\n",
       "      <td>[COVID19]</td>\n",
       "      <td>[557261881]</td>\n",
       "      <td>None</td>\n",
       "      <td>None</td>\n",
       "      <td>-1</td>\n",
       "      <td>-1</td>\n",
       "      <td>NA</td>\n",
       "      <td>[]</td>\n",
       "      <td>False</td>\n",
       "      <td>3</td>\n",
       "      <td>-1</td>\n",
       "      <td>TweetDeck</td>\n",
       "      <td>0</td>\n",
       "      <td>en</td>\n",
       "    </tr>\n",
       "    <tr>\n",
       "      <th>3</th>\n",
       "      <td>1254886223887376385</td>\n",
       "      <td>Christopher Johnson</td>\n",
       "      <td>1517716502</td>\n",
       "      <td>Met virtually with our terrific @AmChamPH Boar...</td>\n",
       "      <td>2020-04-27 21:32:45</td>\n",
       "      <td>New York City</td>\n",
       "      <td>[]</td>\n",
       "      <td>[441540997, 4745918652]</td>\n",
       "      <td>None</td>\n",
       "      <td>None</td>\n",
       "      <td>1253671313467678726</td>\n",
       "      <td>441540997</td>\n",
       "      <td>USAmbManila</td>\n",
       "      <td>[]</td>\n",
       "      <td>True</td>\n",
       "      <td>0</td>\n",
       "      <td>679</td>\n",
       "      <td>Twitter for iPhone</td>\n",
       "      <td>138</td>\n",
       "      <td>en</td>\n",
       "    </tr>\n",
       "  </tbody>\n",
       "</table>\n",
       "</div>"
      ],
      "text/plain": [
       "                    id             user_name              user_id  \\\n",
       "0  1255258012320743424                 Agolo            961384868   \n",
       "1  1255027876086403072    Great White Sharkℹ             45536016   \n",
       "2  1254919002842730496  Wonder Media Network  1021752303978725377   \n",
       "3  1254886223887376385   Christopher Johnson           1517716502   \n",
       "\n",
       "                                             content           created_at  \\\n",
       "0  The US goods trade deficit widened in March am...  2020-04-28 22:10:06   \n",
       "1  #COVID19Nigeria  #Plandemic as done 10, + 10 y...  2020-04-28 06:55:37   \n",
       "2  Gender equity will play a critical role in hel...  2020-04-27 23:43:00   \n",
       "3  Met virtually with our terrific @AmChamPH Boar...  2020-04-27 21:32:45   \n",
       "\n",
       "        location                     hashtags                 mentions  \\\n",
       "0   New York, NY          [pandemic, covid19]                       []   \n",
       "1  New York, USA  [COVID19Nigeria, Plandemic]             [2936714848]   \n",
       "2   New York, NY                    [COVID19]              [557261881]   \n",
       "3  New York City                           []  [441540997, 4745918652]   \n",
       "\n",
       "  in_reply_to_user_id in_reply_to_status_id  retweedt_orid_tweetID  \\\n",
       "0                None                  None                     -1   \n",
       "1                None                  None                     -1   \n",
       "2                None                  None                     -1   \n",
       "3                None                  None    1253671313467678726   \n",
       "\n",
       "  retweetedFrom_id retweetedFrom_name media  retweet  FavCount  \\\n",
       "0               -1                 NA    []    False         0   \n",
       "1               -1                 NA    []    False         1   \n",
       "2               -1                 NA    []    False         3   \n",
       "3        441540997        USAmbManila    []     True         0   \n",
       "\n",
       "   Orig_retweet_fav               source  retweet_count lang  \n",
       "0                -1       Hootsuite Inc.              0   en  \n",
       "1                -1  Twitter for Android              0   en  \n",
       "2                -1            TweetDeck              0   en  \n",
       "3               679   Twitter for iPhone            138   en  "
      ]
     },
     "execution_count": 31,
     "metadata": {},
     "output_type": "execute_result"
    }
   ],
   "source": [
    "# Search by word and hastag\n",
    "twts = pd.DataFrame(tweets.find( {\n",
    "    \"$and\" : [\n",
    "        {\"content\":{\"$regex\":\"covid19\",\"$options\" :'i'}} ,\n",
    "        {\"content\":{\"$regex\":\"\",\"$options\" :'i'}}, \n",
    "        {\"location\":{\"$regex\":\"^New York\", \"$options\" : \"i\"}}\n",
    "    ]\n",
    "}))\n",
    "del twts[\"_id\"]\n",
    "twts.head()"
   ]
  },
  {
   "cell_type": "code",
   "execution_count": 13,
   "metadata": {},
   "outputs": [],
   "source": [
    "#Close the cursor and connection to the database\n",
    "cur.close()\n",
    "conn.close()"
   ]
  },
  {
   "cell_type": "code",
   "execution_count": 42,
   "metadata": {},
   "outputs": [],
   "source": [
    "client.close()"
   ]
  },
  {
   "cell_type": "markdown",
   "metadata": {},
   "source": [
    "## Misc"
   ]
  },
  {
   "cell_type": "code",
   "execution_count": 21,
   "metadata": {},
   "outputs": [],
   "source": [
    "hashtag_count = {}\n",
    "for tweet in tweets.find():\n",
    "    ht = tweet[\"hashtags\"]\n",
    "    for hash in ht:\n",
    "        hash = hash.lower()\n",
    "        if hash not in hashtag_count:\n",
    "            hashtag_count[hash] = 1\n",
    "        else:\n",
    "            hashtag_count[hash] += 1\n",
    "\n",
    "hc = sorted(hashtag_count, key=hashtag_count.get, reverse=True)  # Sorting the top 10.\n",
    "count = 0\n",
    "\n",
    "for z in hc:\n",
    "    if count == 10:\n",
    "        break\n",
    "    jsonx = {\"hashtag\": z, \"count\": str(hashtag_count[z])}\n",
    "    count += 1\n",
    "# {k: v for k, v in sorted(hashtag_count.items(), key=lambda item: item[1])}"
   ]
  },
  {
   "cell_type": "markdown",
   "metadata": {},
   "source": [
    "## Experimenting with text index"
   ]
  },
  {
   "cell_type": "code",
   "execution_count": 12,
   "metadata": {},
   "outputs": [],
   "source": [
    "#Connect to the mongoDB database\n",
    "client = pymongo.MongoClient()\n",
    "db1 = client[\"TWT_DB\"]\n",
    "test = db1[\"test\"]"
   ]
  },
  {
   "cell_type": "code",
   "execution_count": 29,
   "metadata": {},
   "outputs": [
    {
     "data": {
      "text/plain": [
       "'content_text'"
      ]
     },
     "execution_count": 29,
     "metadata": {},
     "output_type": "execute_result"
    }
   ],
   "source": [
    "#Create a test index\n",
    "test.create_index([(\"content\",pymongo.TEXT)])"
   ]
  },
  {
   "cell_type": "code",
   "execution_count": 30,
   "metadata": {
    "scrolled": true
   },
   "outputs": [
    {
     "data": {
      "text/plain": [
       "{'_id': ObjectId('5ea66afbfb8f5ff7fd474756'),\n",
       " 'id_str': '1253752842361483265',\n",
       " 'user_name': 'Dr. Marcell Vollmer #SocialDistancing #StayHome',\n",
       " 'user_id': '99674560',\n",
       " 'content': 'The Great #Lockdown of the economy has been completely unprecedented, both in terms of the speed of the shutdown and its impact on jobs.\\n\\n #coronavirus #COVID19 #health #COVIDー19 #worklife #motivation #FutureofWork #Leadership #WorkLifeBalance #USA\\n\\n https://t.co/yoEHiyJcxc',\n",
       " 'created_at': '2020-04-24 18:29:05',\n",
       " 'location': 'Munich, Bavaria',\n",
       " 'hashtags': ['Lockdown',\n",
       "  'coronavirus',\n",
       "  'COVID19',\n",
       "  'health',\n",
       "  'COVIDー19',\n",
       "  'worklife',\n",
       "  'motivation',\n",
       "  'FutureofWork',\n",
       "  'Leadership',\n",
       "  'WorkLifeBalance',\n",
       "  'USA'],\n",
       " 'mentions': [],\n",
       " 'in_reply_to_user_id': None,\n",
       " 'in_reply_to_status_id': None,\n",
       " 'retweetedFrom': -1,\n",
       " 'media': [],\n",
       " 'retweet': False,\n",
       " 'FavCount': 6,\n",
       " 'source': 'Twitter for iPad',\n",
       " 'retweet_count': 4}"
      ]
     },
     "execution_count": 30,
     "metadata": {},
     "output_type": "execute_result"
    }
   ],
   "source": [
    "twts1 = test.find({\"$text\": {\"$search\": \"\\\"#covid19\\\"\" } } )\n",
    "twts1 = list(twts1)\n",
    "twts1[0]"
   ]
  },
  {
   "cell_type": "code",
   "execution_count": 31,
   "metadata": {},
   "outputs": [
    {
     "data": {
      "text/plain": [
       "396"
      ]
     },
     "execution_count": 31,
     "metadata": {},
     "output_type": "execute_result"
    }
   ],
   "source": [
    "len(twts1)"
   ]
  },
  {
   "cell_type": "code",
   "execution_count": 58,
   "metadata": {
    "scrolled": true
   },
   "outputs": [
    {
     "data": {
      "text/plain": [
       "{'_id': ObjectId('5ea66afbfb8f5ff7fd474756'),\n",
       " 'id_str': '1253752842361483265',\n",
       " 'user_name': 'Dr. Marcell Vollmer #SocialDistancing #StayHome',\n",
       " 'user_id': '99674560',\n",
       " 'content': 'The Great #Lockdown of the economy has been completely unprecedented, both in terms of the speed of the shutdown and its impact on jobs.\\n\\n #coronavirus #COVID19 #health #COVIDー19 #worklife #motivation #FutureofWork #Leadership #WorkLifeBalance #USA\\n\\n https://t.co/yoEHiyJcxc',\n",
       " 'created_at': '2020-04-24 18:29:05',\n",
       " 'location': 'Munich, Bavaria',\n",
       " 'hashtags': ['Lockdown',\n",
       "  'coronavirus',\n",
       "  'COVID19',\n",
       "  'health',\n",
       "  'COVIDー19',\n",
       "  'worklife',\n",
       "  'motivation',\n",
       "  'FutureofWork',\n",
       "  'Leadership',\n",
       "  'WorkLifeBalance',\n",
       "  'USA'],\n",
       " 'mentions': [],\n",
       " 'in_reply_to_user_id': None,\n",
       " 'in_reply_to_status_id': None,\n",
       " 'retweetedFrom': -1,\n",
       " 'media': [],\n",
       " 'retweet': False,\n",
       " 'FavCount': 6,\n",
       " 'source': 'Twitter for iPad',\n",
       " 'retweet_count': 4}"
      ]
     },
     "execution_count": 58,
     "metadata": {},
     "output_type": "execute_result"
    }
   ],
   "source": [
    "twts1 = test.find({\"$text\": {\"$search\": \"covid19\"} } )\n",
    "twts1 = list(twts1)\n",
    "twts1[0]"
   ]
  },
  {
   "cell_type": "code",
   "execution_count": 56,
   "metadata": {},
   "outputs": [
    {
     "data": {
      "text/plain": [
       "408"
      ]
     },
     "execution_count": 56,
     "metadata": {},
     "output_type": "execute_result"
    }
   ],
   "source": [
    "len(twts1)"
   ]
  },
  {
   "cell_type": "code",
   "execution_count": 44,
   "metadata": {
    "scrolled": true
   },
   "outputs": [
    {
     "data": {
      "text/plain": [
       "{'queryPlanner': {'plannerVersion': 1,\n",
       "  'namespace': 'TWT_DB.test',\n",
       "  'indexFilterSet': False,\n",
       "  'parsedQuery': {'$text': {'$search': 'covid19',\n",
       "    '$language': 'english',\n",
       "    '$caseSensitive': False,\n",
       "    '$diacriticSensitive': False}},\n",
       "  'winningPlan': {'stage': 'TEXT',\n",
       "   'indexPrefix': {},\n",
       "   'indexName': 'content_text',\n",
       "   'parsedTextQuery': {'terms': ['covid19'],\n",
       "    'negatedTerms': [],\n",
       "    'phrases': [],\n",
       "    'negatedPhrases': []},\n",
       "   'textIndexVersion': 3,\n",
       "   'inputStage': {'stage': 'TEXT_MATCH',\n",
       "    'inputStage': {'stage': 'FETCH',\n",
       "     'inputStage': {'stage': 'OR',\n",
       "      'inputStage': {'stage': 'IXSCAN',\n",
       "       'keyPattern': {'_fts': 'text', '_ftsx': 1},\n",
       "       'indexName': 'content_text',\n",
       "       'isMultiKey': True,\n",
       "       'isUnique': False,\n",
       "       'isSparse': False,\n",
       "       'isPartial': False,\n",
       "       'indexVersion': 2,\n",
       "       'direction': 'backward',\n",
       "       'indexBounds': {}}}}}},\n",
       "  'rejectedPlans': []},\n",
       " 'executionStats': {'executionSuccess': True,\n",
       "  'nReturned': 408,\n",
       "  'executionTimeMillis': 1,\n",
       "  'totalKeysExamined': 408,\n",
       "  'totalDocsExamined': 408,\n",
       "  'executionStages': {'stage': 'TEXT',\n",
       "   'nReturned': 408,\n",
       "   'executionTimeMillisEstimate': 0,\n",
       "   'works': 409,\n",
       "   'advanced': 408,\n",
       "   'needTime': 0,\n",
       "   'needYield': 0,\n",
       "   'saveState': 3,\n",
       "   'restoreState': 3,\n",
       "   'isEOF': 1,\n",
       "   'indexPrefix': {},\n",
       "   'indexName': 'content_text',\n",
       "   'parsedTextQuery': {'terms': ['covid19'],\n",
       "    'negatedTerms': [],\n",
       "    'phrases': [],\n",
       "    'negatedPhrases': []},\n",
       "   'textIndexVersion': 3,\n",
       "   'inputStage': {'stage': 'TEXT_MATCH',\n",
       "    'nReturned': 408,\n",
       "    'executionTimeMillisEstimate': 0,\n",
       "    'works': 409,\n",
       "    'advanced': 408,\n",
       "    'needTime': 0,\n",
       "    'needYield': 0,\n",
       "    'saveState': 3,\n",
       "    'restoreState': 3,\n",
       "    'isEOF': 1,\n",
       "    'docsRejected': 0,\n",
       "    'inputStage': {'stage': 'FETCH',\n",
       "     'nReturned': 408,\n",
       "     'executionTimeMillisEstimate': 0,\n",
       "     'works': 409,\n",
       "     'advanced': 408,\n",
       "     'needTime': 0,\n",
       "     'needYield': 0,\n",
       "     'saveState': 3,\n",
       "     'restoreState': 3,\n",
       "     'isEOF': 1,\n",
       "     'docsExamined': 408,\n",
       "     'alreadyHasObj': 0,\n",
       "     'inputStage': {'stage': 'OR',\n",
       "      'nReturned': 408,\n",
       "      'executionTimeMillisEstimate': 0,\n",
       "      'works': 409,\n",
       "      'advanced': 408,\n",
       "      'needTime': 0,\n",
       "      'needYield': 0,\n",
       "      'saveState': 3,\n",
       "      'restoreState': 3,\n",
       "      'isEOF': 1,\n",
       "      'dupsTested': 408,\n",
       "      'dupsDropped': 0,\n",
       "      'inputStage': {'stage': 'IXSCAN',\n",
       "       'nReturned': 408,\n",
       "       'executionTimeMillisEstimate': 0,\n",
       "       'works': 409,\n",
       "       'advanced': 408,\n",
       "       'needTime': 0,\n",
       "       'needYield': 0,\n",
       "       'saveState': 3,\n",
       "       'restoreState': 3,\n",
       "       'isEOF': 1,\n",
       "       'keyPattern': {'_fts': 'text', '_ftsx': 1},\n",
       "       'indexName': 'content_text',\n",
       "       'isMultiKey': True,\n",
       "       'isUnique': False,\n",
       "       'isSparse': False,\n",
       "       'isPartial': False,\n",
       "       'indexVersion': 2,\n",
       "       'direction': 'backward',\n",
       "       'indexBounds': {},\n",
       "       'keysExamined': 408,\n",
       "       'seeks': 1,\n",
       "       'dupsTested': 408,\n",
       "       'dupsDropped': 0}}}}},\n",
       "  'allPlansExecution': []},\n",
       " 'serverInfo': {'host': 'DESKTOP-T0J0HGC',\n",
       "  'port': 27017,\n",
       "  'version': '4.2.6',\n",
       "  'gitVersion': '20364840b8f1af16917e4c23c1b5f5efd8b352f8'},\n",
       " 'ok': 1.0}"
      ]
     },
     "execution_count": 44,
     "metadata": {},
     "output_type": "execute_result"
    }
   ],
   "source": [
    "test.find({\"$text\":{\"$search\": \"covid19\"}}).explain()"
   ]
  },
  {
   "cell_type": "code",
   "execution_count": 36,
   "metadata": {},
   "outputs": [],
   "source": [
    "#Connect to the mongoDB database\n",
    "client = pymongo.MongoClient()\n",
    "db = client[\"TWT_DB\"]\n",
    "tweets = db[\"tweets\"]"
   ]
  },
  {
   "cell_type": "code",
   "execution_count": 50,
   "metadata": {
    "scrolled": true
   },
   "outputs": [
    {
     "data": {
      "text/plain": [
       "{'queryPlanner': {'plannerVersion': 1,\n",
       "  'namespace': 'TWT_DB.tweets',\n",
       "  'indexFilterSet': False,\n",
       "  'parsedQuery': {'content': {'$regex': 'covid19', '$options': 'i'}},\n",
       "  'winningPlan': {'stage': 'COLLSCAN',\n",
       "   'filter': {'content': {'$regex': 'covid19', '$options': 'i'}},\n",
       "   'direction': 'forward'},\n",
       "  'rejectedPlans': []},\n",
       " 'executionStats': {'executionSuccess': True,\n",
       "  'nReturned': 413,\n",
       "  'executionTimeMillis': 11,\n",
       "  'totalKeysExamined': 0,\n",
       "  'totalDocsExamined': 15429,\n",
       "  'executionStages': {'stage': 'COLLSCAN',\n",
       "   'filter': {'content': {'$regex': 'covid19', '$options': 'i'}},\n",
       "   'nReturned': 413,\n",
       "   'executionTimeMillisEstimate': 0,\n",
       "   'works': 15431,\n",
       "   'advanced': 413,\n",
       "   'needTime': 15017,\n",
       "   'needYield': 0,\n",
       "   'saveState': 120,\n",
       "   'restoreState': 120,\n",
       "   'isEOF': 1,\n",
       "   'direction': 'forward',\n",
       "   'docsExamined': 15429},\n",
       "  'allPlansExecution': []},\n",
       " 'serverInfo': {'host': 'DESKTOP-T0J0HGC',\n",
       "  'port': 27017,\n",
       "  'version': '4.2.6',\n",
       "  'gitVersion': '20364840b8f1af16917e4c23c1b5f5efd8b352f8'},\n",
       " 'ok': 1.0}"
      ]
     },
     "execution_count": 50,
     "metadata": {},
     "output_type": "execute_result"
    }
   ],
   "source": [
    "tweets.find({\"content\":{\"$regex\":\"covid19\",\"$options\" :'i'}}).explain()"
   ]
  },
  {
   "cell_type": "code",
   "execution_count": 13,
   "metadata": {
    "scrolled": true
   },
   "outputs": [
    {
     "data": {
      "text/plain": [
       "{'queryPlanner': {'plannerVersion': 1,\n",
       "  'namespace': 'TWT_DB.tweets',\n",
       "  'indexFilterSet': False,\n",
       "  'parsedQuery': {'content': {'$regex': 'trump', '$options': 'i'}},\n",
       "  'winningPlan': {'stage': 'COLLSCAN',\n",
       "   'filter': {'content': {'$regex': 'trump', '$options': 'i'}},\n",
       "   'direction': 'forward'},\n",
       "  'rejectedPlans': []},\n",
       " 'executionStats': {'executionSuccess': True,\n",
       "  'nReturned': 2240,\n",
       "  'executionTimeMillis': 37,\n",
       "  'totalKeysExamined': 0,\n",
       "  'totalDocsExamined': 15429,\n",
       "  'executionStages': {'stage': 'COLLSCAN',\n",
       "   'filter': {'content': {'$regex': 'trump', '$options': 'i'}},\n",
       "   'nReturned': 2240,\n",
       "   'executionTimeMillisEstimate': 0,\n",
       "   'works': 15431,\n",
       "   'advanced': 2240,\n",
       "   'needTime': 13190,\n",
       "   'needYield': 0,\n",
       "   'saveState': 120,\n",
       "   'restoreState': 120,\n",
       "   'isEOF': 1,\n",
       "   'direction': 'forward',\n",
       "   'docsExamined': 15429},\n",
       "  'allPlansExecution': []},\n",
       " 'serverInfo': {'host': 'DESKTOP-T0J0HGC',\n",
       "  'port': 27017,\n",
       "  'version': '4.2.6',\n",
       "  'gitVersion': '20364840b8f1af16917e4c23c1b5f5efd8b352f8'},\n",
       " 'ok': 1.0}"
      ]
     },
     "execution_count": 13,
     "metadata": {},
     "output_type": "execute_result"
    }
   ],
   "source": [
    "tweets.find({\"content\":{\"$regex\":\"trump\",\"$options\" :'i'}}).explain()"
   ]
  },
  {
   "cell_type": "code",
   "execution_count": 14,
   "metadata": {
    "scrolled": true
   },
   "outputs": [
    {
     "data": {
      "text/plain": [
       "{'queryPlanner': {'plannerVersion': 1,\n",
       "  'namespace': 'TWT_DB.test',\n",
       "  'indexFilterSet': False,\n",
       "  'parsedQuery': {'content': {'$regex': 'trump', '$options': 'i'}},\n",
       "  'winningPlan': {'stage': 'COLLSCAN',\n",
       "   'filter': {'content': {'$regex': 'trump', '$options': 'i'}},\n",
       "   'direction': 'forward'},\n",
       "  'rejectedPlans': []},\n",
       " 'executionStats': {'executionSuccess': True,\n",
       "  'nReturned': 2240,\n",
       "  'executionTimeMillis': 18,\n",
       "  'totalKeysExamined': 0,\n",
       "  'totalDocsExamined': 15429,\n",
       "  'executionStages': {'stage': 'COLLSCAN',\n",
       "   'filter': {'content': {'$regex': 'trump', '$options': 'i'}},\n",
       "   'nReturned': 2240,\n",
       "   'executionTimeMillisEstimate': 0,\n",
       "   'works': 15431,\n",
       "   'advanced': 2240,\n",
       "   'needTime': 13190,\n",
       "   'needYield': 0,\n",
       "   'saveState': 120,\n",
       "   'restoreState': 120,\n",
       "   'isEOF': 1,\n",
       "   'direction': 'forward',\n",
       "   'docsExamined': 15429},\n",
       "  'allPlansExecution': []},\n",
       " 'serverInfo': {'host': 'DESKTOP-T0J0HGC',\n",
       "  'port': 27017,\n",
       "  'version': '4.2.6',\n",
       "  'gitVersion': '20364840b8f1af16917e4c23c1b5f5efd8b352f8'},\n",
       " 'ok': 1.0}"
      ]
     },
     "execution_count": 14,
     "metadata": {},
     "output_type": "execute_result"
    }
   ],
   "source": [
    "test.find({\"content\":{\"$regex\":\"trump\",\"$options\" :'i'}}).explain()"
   ]
  },
  {
   "cell_type": "code",
   "execution_count": 33,
   "metadata": {},
   "outputs": [],
   "source": [
    "client.close()"
   ]
  },
  {
   "cell_type": "code",
   "execution_count": null,
   "metadata": {},
   "outputs": [],
   "source": []
  }
 ],
 "metadata": {
  "kernelspec": {
   "display_name": "Python 3",
   "language": "python",
   "name": "python3"
  },
  "language_info": {
   "codemirror_mode": {
    "name": "ipython",
    "version": 3
   },
   "file_extension": ".py",
   "mimetype": "text/x-python",
   "name": "python",
   "nbconvert_exporter": "python",
   "pygments_lexer": "ipython3",
   "version": "3.7.3"
  }
 },
 "nbformat": 4,
 "nbformat_minor": 2
}
