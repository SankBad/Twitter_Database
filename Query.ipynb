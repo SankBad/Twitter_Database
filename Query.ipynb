{
 "cells": [
  {
   "cell_type": "markdown",
   "metadata": {},
   "source": [
    "# Queries for the search application"
   ]
  },
  {
   "cell_type": "code",
   "execution_count": 21,
   "metadata": {},
   "outputs": [],
   "source": [
    "import pandas as pd\n",
    "import json\n",
    "import pymongo\n",
    "import io\n",
    "import pprint\n",
    "import itertools"
   ]
  },
  {
   "cell_type": "code",
   "execution_count": 24,
   "metadata": {},
   "outputs": [],
   "source": [
    "#Connect to the mongoDB database\n",
    "client = pymongo.MongoClient()\n",
    "db = client[\"tweet_database\"]\n",
    "tweets = db.tweets_collection_final"
   ]
  },
  {
   "cell_type": "code",
   "execution_count": 25,
   "metadata": {},
   "outputs": [
    {
     "data": {
      "text/plain": [
       "{'_id': ObjectId('5ea9c38017dfdac82a91830c'),\n",
       " 'id': 1255560533723484161,\n",
       " 'user_name': 'Rich Justice',\n",
       " 'user_id': '866210244',\n",
       " 'content': 'The record-long U.S. economic expansion is over after almost 11 years, with what’s likely to be the deepest recession in at least eight decades now under way https://t.co/ZOWYUBHaKS',\n",
       " 'created_at': '2020-04-29 18:12:13',\n",
       " 'location': 'Pennsylvania',\n",
       " 'hashtags': [],\n",
       " 'mentions': ['564111558'],\n",
       " 'in_reply_to_user_id': None,\n",
       " 'in_reply_to_status_id': None,\n",
       " 'retweedt_orid_tweetID': 1255554460182630401,\n",
       " 'retweetedFrom_id': '564111558',\n",
       " 'retweetedFrom_name': 'bpolitics',\n",
       " 'media': [],\n",
       " 'retweet': True,\n",
       " 'FavCount': 0,\n",
       " 'Orig_retweet_fav': 5,\n",
       " 'source': 'Twitter for iPad',\n",
       " 'retweet_count': 11,\n",
       " 'lang': 'en'}"
      ]
     },
     "execution_count": 25,
     "metadata": {},
     "output_type": "execute_result"
    }
   ],
   "source": [
    "#Document(row) sample from the mongoDB database \n",
    "myquery = {}\n",
    "mydoc = list(tweets.find(myquery))\n",
    "mydoc[0]"
   ]
  },
  {
   "cell_type": "markdown",
   "metadata": {},
   "source": [
    "## Lets learn about our data"
   ]
  },
  {
   "cell_type": "code",
   "execution_count": 26,
   "metadata": {},
   "outputs": [
    {
     "data": {
      "text/plain": [
       "{'original': 12275, 'retweets': 4623}"
      ]
     },
     "execution_count": 26,
     "metadata": {},
     "output_type": "execute_result"
    }
   ],
   "source": [
    "## Original vs retweet count\n",
    "tweet_type = {'original': 0, 'retweets': 0}\n",
    "\n",
    "for tweet in tweets.find():\n",
    "    if tweet['retweet'] == True:\n",
    "        tweet_type['original'] += 1\n",
    "    else:\n",
    "        tweet_type['retweets'] += 1\n",
    "tweet_type"
   ]
  },
  {
   "cell_type": "code",
   "execution_count": 27,
   "metadata": {},
   "outputs": [
    {
     "data": {
      "text/plain": [
       "{'text': 15685, 'Only_image': 0, 'both': 1213}"
      ]
     },
     "execution_count": 27,
     "metadata": {},
     "output_type": "execute_result"
    }
   ],
   "source": [
    "## Type of media in our dataset\n",
    "type_count = {\"text\": 0, \"Only_image\":0, \"both\":0}\n",
    "for tweet in tweets.find():\n",
    "    md = tweet[\"media\"]\n",
    "    if len(md) != 0:\n",
    "        if tweet[\"content\"] == \"\":\n",
    "            type_count[\"image\"] += 1 # Only Image\n",
    "        else:\n",
    "            type_count[\"both\"] += 1 # Image and text\n",
    "    else:\n",
    "        type_count[\"text\"] += 1 # Only text\n",
    "\n",
    "type_count"
   ]
  },
  {
   "cell_type": "code",
   "execution_count": 28,
   "metadata": {},
   "outputs": [
    {
     "name": "stdout",
     "output_type": "stream",
     "text": [
      "14937 distinct user out of 16898 total user\n"
     ]
    },
    {
     "name": "stderr",
     "output_type": "stream",
     "text": [
      "/usr/local/lib/python3.6/site-packages/ipykernel_launcher.py:7: DeprecationWarning: count is deprecated. Use estimated_document_count or count_documents instead. Please note that $where must be replaced by $expr, $near must be replaced by $geoWithin with $center, and $nearSphere must be replaced by $geoWithin with $centerSphere\n",
      "  import sys\n"
     ]
    }
   ],
   "source": [
    "## Number of distince user in database\n",
    "distinct_users = set()\n",
    "\n",
    "for tweet in tweets.find():\n",
    "    distinct_users.add(tweet['user_id'])\n",
    "\n",
    "print(\"{} distinct user out of {} total user\".format(len(distinct_users), tweets.count()))"
   ]
  },
  {
   "cell_type": "code",
   "execution_count": 52,
   "metadata": {},
   "outputs": [
    {
     "name": "stdout",
     "output_type": "stream",
     "text": [
      "number of retweet:\n",
      " 34671\n",
      "Conten of the tweet:\n",
      " The only reason the U.S. has reported one million cases of CoronaVirus is that our Testing is sooo much better than any other country in the World. Other countries are way behind us in Testing, and therefore show far fewer cases!\n",
      "Creater of the original tweet:\n",
      " realDonaldTrump\n",
      "Likes on the original tweet:\n",
      " 201285\n"
     ]
    }
   ],
   "source": [
    "## Tweet with  maximum retweet count\n",
    "max_retweet_count = 0\n",
    "for tweet in tweets.find():\n",
    "    if tweet['retweet_count']>max_retweet_count:\n",
    "        max_retweet_count = tweet['retweet_count']\n",
    "        tweet_id = tweet['id']\n",
    "\n",
    "myquery = {'id': tweet_id}\n",
    "twts = list(tweets.find(myquery))\n",
    "print('number of retweet:\\n', max_retweet_count)\n",
    "print('Conten of the tweet:\\n', twts[0]['content'])\n",
    "print('Creater of the original tweet:\\n', twts[0]['retweetedFrom_name'])\n",
    "print('Likes on the original tweet:\\n', twts[0]['Orig_retweet_fav'])"
   ]
  },
  {
   "cell_type": "code",
   "execution_count": 53,
   "metadata": {},
   "outputs": [
    {
     "data": {
      "text/plain": [
       "{'_id': ObjectId('5ea9c40717dfdac82a919ee3'),\n",
       " 'id': 1255401632264830979,\n",
       " 'user_name': 'The_War_Economy',\n",
       " 'user_id': '856978948965769220',\n",
       " 'content': 'The only reason the U.S. has reported one million cases of CoronaVirus is that our Testing is sooo much better than any other country in the World. Other countries are way behind us in Testing, and therefore show far fewer cases!',\n",
       " 'created_at': '2020-04-29 07:40:48',\n",
       " 'location': '',\n",
       " 'hashtags': [],\n",
       " 'mentions': ['25073877'],\n",
       " 'in_reply_to_user_id': None,\n",
       " 'in_reply_to_status_id': None,\n",
       " 'retweedt_orid_tweetID': 1255352014042738688,\n",
       " 'retweetedFrom_id': '25073877',\n",
       " 'retweetedFrom_name': 'realDonaldTrump',\n",
       " 'media': [],\n",
       " 'retweet': True,\n",
       " 'FavCount': 0,\n",
       " 'Orig_retweet_fav': 201285,\n",
       " 'source': 'Twitter Web App',\n",
       " 'retweet_count': 34671,\n",
       " 'lang': 'en'}"
      ]
     },
     "execution_count": 53,
     "metadata": {},
     "output_type": "execute_result"
    }
   ],
   "source": [
    "twts[0]"
   ]
  },
  {
   "cell_type": "code",
   "execution_count": 54,
   "metadata": {},
   "outputs": [
    {
     "name": "stdout",
     "output_type": "stream",
     "text": [
      "number of favorite:\n",
      " 7996\n",
      "Conten of the tweet:\n",
      " This is bonkers:\n",
      "\n",
      "Roughly half of all U.S. workers stand to earn more in unemployment benefits than they did at their jobs before the coronavirus pandemic brought the economy to a standstill.     https://t.co/sXDmXH0PJ3\n",
      "Creater of tweet:\n",
      " Neil King\n"
     ]
    }
   ],
   "source": [
    "## Tweet with  maximum favorite count\n",
    "max_FavCount = 0\n",
    "for tweet in tweets.find():\n",
    "    if tweet['FavCount']>max_FavCount:\n",
    "        max_FavCount = tweet['FavCount']\n",
    "        tweet_id = tweet['id']\n",
    "\n",
    "myquery = {'id': tweet_id}\n",
    "twts = list(tweets.find(myquery))\n",
    "print('number of favorite:\\n', max_FavCount)\n",
    "print('Conten of the tweet:\\n', twts[0]['content'])\n",
    "print('Creater of tweet:\\n', twts[0]['user_name'])"
   ]
  },
  {
   "cell_type": "markdown",
   "metadata": {},
   "source": [
    "## Search by word"
   ]
  },
  {
   "cell_type": "code",
   "execution_count": 55,
   "metadata": {},
   "outputs": [
    {
     "data": {
      "text/plain": [
       "368"
      ]
     },
     "execution_count": 55,
     "metadata": {},
     "output_type": "execute_result"
    }
   ],
   "source": [
    "#Find number of tweets with word\n",
    "myquery = {\"content\":{\"$regex\":\"covid19\",\"$options\" :'i'}}\n",
    "tweets.count_documents(myquery)"
   ]
  },
  {
   "cell_type": "code",
   "execution_count": 56,
   "metadata": {},
   "outputs": [
    {
     "data": {
      "text/plain": [
       "{'_id': ObjectId('5ea9c38117dfdac82a91836a'),\n",
       " 'id': 1255558980862173185,\n",
       " 'user_name': 'Story Partners',\n",
       " 'user_id': '122488212',\n",
       " 'content': 'How will we return to work in a safe and sustainable way? \\n\\nSuzanne Clark from the U.S. Chamber of Commerce answers this question in the latest issue of #InsideStory.\\n\\n#PublicAffairs #COVID19 #Coronavirus\\n\\nhttps://t.co/QwdkaAYAqo https://t.co/yirEqWFkg8',\n",
       " 'created_at': '2020-04-29 18:06:02',\n",
       " 'location': 'Washington, D.C.',\n",
       " 'hashtags': ['InsideStory', 'PublicAffairs', 'COVID19', 'Coronavirus'],\n",
       " 'mentions': [],\n",
       " 'in_reply_to_user_id': None,\n",
       " 'in_reply_to_status_id': None,\n",
       " 'retweedt_orid_tweetID': -1,\n",
       " 'retweetedFrom_id': -1,\n",
       " 'retweetedFrom_name': 'NA',\n",
       " 'media': ['https://t.co/yirEqWFkg8'],\n",
       " 'retweet': False,\n",
       " 'FavCount': 0,\n",
       " 'Orig_retweet_fav': -1,\n",
       " 'source': 'Sprout Social',\n",
       " 'retweet_count': 0,\n",
       " 'lang': 'en'}"
      ]
     },
     "execution_count": 56,
     "metadata": {},
     "output_type": "execute_result"
    }
   ],
   "source": [
    "#Tweets\n",
    "twts = list(tweets.find(myquery))\n",
    "twts[0]"
   ]
  },
  {
   "cell_type": "markdown",
   "metadata": {},
   "source": [
    "## Search by a hashtag"
   ]
  },
  {
   "cell_type": "code",
   "execution_count": 57,
   "metadata": {},
   "outputs": [
    {
     "data": {
      "text/plain": [
       "{'_id': ObjectId('5ea9c38117dfdac82a91836a'),\n",
       " 'id': 1255558980862173185,\n",
       " 'user_name': 'Story Partners',\n",
       " 'user_id': '122488212',\n",
       " 'content': 'How will we return to work in a safe and sustainable way? \\n\\nSuzanne Clark from the U.S. Chamber of Commerce answers this question in the latest issue of #InsideStory.\\n\\n#PublicAffairs #COVID19 #Coronavirus\\n\\nhttps://t.co/QwdkaAYAqo https://t.co/yirEqWFkg8',\n",
       " 'created_at': '2020-04-29 18:06:02',\n",
       " 'location': 'Washington, D.C.',\n",
       " 'hashtags': ['InsideStory', 'PublicAffairs', 'COVID19', 'Coronavirus'],\n",
       " 'mentions': [],\n",
       " 'in_reply_to_user_id': None,\n",
       " 'in_reply_to_status_id': None,\n",
       " 'retweedt_orid_tweetID': -1,\n",
       " 'retweetedFrom_id': -1,\n",
       " 'retweetedFrom_name': 'NA',\n",
       " 'media': ['https://t.co/yirEqWFkg8'],\n",
       " 'retweet': False,\n",
       " 'FavCount': 0,\n",
       " 'Orig_retweet_fav': -1,\n",
       " 'source': 'Sprout Social',\n",
       " 'retweet_count': 0,\n",
       " 'lang': 'en'}"
      ]
     },
     "execution_count": 57,
     "metadata": {},
     "output_type": "execute_result"
    }
   ],
   "source": [
    "# #Find number of tweets with #covid19 (Exact string put the specified string between the ^(Starts with) and $(Ends with))\n",
    "# myquery = {\"hashtags\":{\"$regex\":\"^covid19$\",\"$options\" :'i'}}\n",
    "#Search using a hashtag.\n",
    "myquery = {\"content\":{\"$regex\":\"#covid19\",\"$options\" :'i'}}\n",
    "twts = list(tweets.find(myquery))\n",
    "twts[0]"
   ]
  },
  {
   "cell_type": "code",
   "execution_count": 58,
   "metadata": {},
   "outputs": [
    {
     "data": {
      "text/plain": [
       "322"
      ]
     },
     "execution_count": 58,
     "metadata": {},
     "output_type": "execute_result"
    }
   ],
   "source": [
    "len(twts)"
   ]
  },
  {
   "cell_type": "markdown",
   "metadata": {},
   "source": [
    "## Search by time range"
   ]
  },
  {
   "cell_type": "code",
   "execution_count": 61,
   "metadata": {},
   "outputs": [
    {
     "data": {
      "text/plain": [
       "{'_id': ObjectId('5ea9c38117dfdac82a918368'),\n",
       " 'id': 1255558995890376705,\n",
       " 'user_name': 'Guido Cuelli',\n",
       " 'user_id': '301155730',\n",
       " 'content': 'The U.S. economy contracted at 4.8% in the first-quarter as stringent measures to slow the spread of the coronavirus almost shut down the country https://t.co/N8WAhBdGcj https://t.co/X89f212gkw',\n",
       " 'created_at': '2020-04-29 18:06:06',\n",
       " 'location': '',\n",
       " 'hashtags': [],\n",
       " 'mentions': ['1652541'],\n",
       " 'in_reply_to_user_id': None,\n",
       " 'in_reply_to_status_id': None,\n",
       " 'retweedt_orid_tweetID': 1255542383372054528,\n",
       " 'retweetedFrom_id': '1652541',\n",
       " 'retweetedFrom_name': 'Reuters',\n",
       " 'media': [],\n",
       " 'retweet': True,\n",
       " 'FavCount': 0,\n",
       " 'Orig_retweet_fav': 22,\n",
       " 'source': 'Twitter for Android',\n",
       " 'retweet_count': 8,\n",
       " 'lang': 'en'}"
      ]
     },
     "execution_count": 61,
     "metadata": {},
     "output_type": "execute_result"
    }
   ],
   "source": [
    "# Search by Time range\n",
    "twts = tweets.find({\"created_at\":{ \"$gte\": \"2020-04-29 18:05:00\", \"$lt\": \"2020-04-29 18:06:10\" }})\n",
    "twts = list(twts)\n",
    "twts[0]"
   ]
  },
  {
   "cell_type": "code",
   "execution_count": 62,
   "metadata": {},
   "outputs": [
    {
     "data": {
      "text/plain": [
       "13"
      ]
     },
     "execution_count": 62,
     "metadata": {},
     "output_type": "execute_result"
    }
   ],
   "source": [
    "len(twts)"
   ]
  },
  {
   "cell_type": "markdown",
   "metadata": {},
   "source": [
    "## Search by user name"
   ]
  },
  {
   "cell_type": "code",
   "execution_count": 66,
   "metadata": {},
   "outputs": [
    {
     "data": {
      "text/plain": [
       "{'_id': ObjectId('5ea9c38117dfdac82a918368'),\n",
       " 'id': 1255558995890376705,\n",
       " 'user_name': 'Guido Cuelli',\n",
       " 'user_id': '301155730',\n",
       " 'content': 'The U.S. economy contracted at 4.8% in the first-quarter as stringent measures to slow the spread of the coronavirus almost shut down the country https://t.co/N8WAhBdGcj https://t.co/X89f212gkw',\n",
       " 'created_at': '2020-04-29 18:06:06',\n",
       " 'location': '',\n",
       " 'hashtags': [],\n",
       " 'mentions': ['1652541'],\n",
       " 'in_reply_to_user_id': None,\n",
       " 'in_reply_to_status_id': None,\n",
       " 'retweedt_orid_tweetID': 1255542383372054528,\n",
       " 'retweetedFrom_id': '1652541',\n",
       " 'retweetedFrom_name': 'Reuters',\n",
       " 'media': [],\n",
       " 'retweet': True,\n",
       " 'FavCount': 0,\n",
       " 'Orig_retweet_fav': 22,\n",
       " 'source': 'Twitter for Android',\n",
       " 'retweet_count': 8,\n",
       " 'lang': 'en'}"
      ]
     },
     "execution_count": 66,
     "metadata": {},
     "output_type": "execute_result"
    }
   ],
   "source": [
    "# Search by user_name\n",
    "twts = tweets.find({\"user_name\":\"Guido Cuelli\"})\n",
    "twts = list(twts)\n",
    "twts[0]"
   ]
  },
  {
   "cell_type": "code",
   "execution_count": 67,
   "metadata": {},
   "outputs": [
    {
     "data": {
      "text/plain": [
       "1"
      ]
     },
     "execution_count": 67,
     "metadata": {},
     "output_type": "execute_result"
    }
   ],
   "source": [
    "len(twts)"
   ]
  },
  {
   "cell_type": "markdown",
   "metadata": {},
   "source": [
    "## Search by user_id"
   ]
  },
  {
   "cell_type": "code",
   "execution_count": 69,
   "metadata": {},
   "outputs": [
    {
     "data": {
      "text/plain": [
       "{'_id': ObjectId('5ea9c38117dfdac82a918368'),\n",
       " 'id': 1255558995890376705,\n",
       " 'user_name': 'Guido Cuelli',\n",
       " 'user_id': '301155730',\n",
       " 'content': 'The U.S. economy contracted at 4.8% in the first-quarter as stringent measures to slow the spread of the coronavirus almost shut down the country https://t.co/N8WAhBdGcj https://t.co/X89f212gkw',\n",
       " 'created_at': '2020-04-29 18:06:06',\n",
       " 'location': '',\n",
       " 'hashtags': [],\n",
       " 'mentions': ['1652541'],\n",
       " 'in_reply_to_user_id': None,\n",
       " 'in_reply_to_status_id': None,\n",
       " 'retweedt_orid_tweetID': 1255542383372054528,\n",
       " 'retweetedFrom_id': '1652541',\n",
       " 'retweetedFrom_name': 'Reuters',\n",
       " 'media': [],\n",
       " 'retweet': True,\n",
       " 'FavCount': 0,\n",
       " 'Orig_retweet_fav': 22,\n",
       " 'source': 'Twitter for Android',\n",
       " 'retweet_count': 8,\n",
       " 'lang': 'en'}"
      ]
     },
     "execution_count": 69,
     "metadata": {},
     "output_type": "execute_result"
    }
   ],
   "source": [
    "# Search by user id\n",
    "twts = tweets.find({\"user_id\":\"301155730\"})\n",
    "twts = list(twts)\n",
    "twts[0]"
   ]
  },
  {
   "cell_type": "code",
   "execution_count": 70,
   "metadata": {},
   "outputs": [
    {
     "data": {
      "text/plain": [
       "1"
      ]
     },
     "execution_count": 70,
     "metadata": {},
     "output_type": "execute_result"
    }
   ],
   "source": [
    "len(twts)"
   ]
  },
  {
   "cell_type": "markdown",
   "metadata": {},
   "source": [
    "## Search by two words"
   ]
  },
  {
   "cell_type": "code",
   "execution_count": 71,
   "metadata": {},
   "outputs": [
    {
     "data": {
      "text/plain": [
       "{'_id': ObjectId('5ea9c39817dfdac82a9188bb'),\n",
       " 'id': 1255526469939404801,\n",
       " 'user_name': 'mnpact/Dave Mindeman',\n",
       " 'user_id': '18503647',\n",
       " 'content': '#Covid19 #TrumpEconomy  The U.S. economy shrank at a 4.8% annual rate last quarter',\n",
       " 'created_at': '2020-04-29 15:56:51',\n",
       " 'location': 'Apple Valley, MN',\n",
       " 'hashtags': ['Covid19', 'TrumpEconomy'],\n",
       " 'mentions': [],\n",
       " 'in_reply_to_user_id': None,\n",
       " 'in_reply_to_status_id': None,\n",
       " 'retweedt_orid_tweetID': -1,\n",
       " 'retweetedFrom_id': -1,\n",
       " 'retweetedFrom_name': 'NA',\n",
       " 'media': [],\n",
       " 'retweet': False,\n",
       " 'FavCount': 0,\n",
       " 'Orig_retweet_fav': -1,\n",
       " 'source': 'Twitter Web App',\n",
       " 'retweet_count': 0,\n",
       " 'lang': 'en'}"
      ]
     },
     "execution_count": 71,
     "metadata": {},
     "output_type": "execute_result"
    }
   ],
   "source": [
    "#search by two words\n",
    "twts = tweets.find( {\n",
    "    \"$and\" : [\n",
    "        {\"content\":{\"$regex\":\"covid19\",\"$options\" :'i'}} , {\"content\":{\"$regex\":\"#trump\",\"$options\" :'i'}}\n",
    "    ]\n",
    "} )\n",
    "twts = list(twts)\n",
    "twts[0]"
   ]
  },
  {
   "cell_type": "code",
   "execution_count": 72,
   "metadata": {},
   "outputs": [
    {
     "data": {
      "text/plain": [
       "9"
      ]
     },
     "execution_count": 72,
     "metadata": {},
     "output_type": "execute_result"
    }
   ],
   "source": [
    "len(twts)"
   ]
  },
  {
   "cell_type": "markdown",
   "metadata": {},
   "source": [
    "## Top five hashtags used"
   ]
  },
  {
   "cell_type": "code",
   "execution_count": 74,
   "metadata": {
    "scrolled": true
   },
   "outputs": [
    {
     "data": {
      "text/html": [
       "<div>\n",
       "<style scoped>\n",
       "    .dataframe tbody tr th:only-of-type {\n",
       "        vertical-align: middle;\n",
       "    }\n",
       "\n",
       "    .dataframe tbody tr th {\n",
       "        vertical-align: top;\n",
       "    }\n",
       "\n",
       "    .dataframe thead th {\n",
       "        text-align: right;\n",
       "    }\n",
       "</style>\n",
       "<table border=\"1\" class=\"dataframe\">\n",
       "  <thead>\n",
       "    <tr style=\"text-align: right;\">\n",
       "      <th></th>\n",
       "      <th>count</th>\n",
       "    </tr>\n",
       "  </thead>\n",
       "  <tbody>\n",
       "    <tr>\n",
       "      <th>covid19</th>\n",
       "      <td>229</td>\n",
       "    </tr>\n",
       "    <tr>\n",
       "      <th>economy</th>\n",
       "      <td>200</td>\n",
       "    </tr>\n",
       "    <tr>\n",
       "      <th>oann</th>\n",
       "      <td>192</td>\n",
       "    </tr>\n",
       "    <tr>\n",
       "      <th>coronavirus</th>\n",
       "      <td>177</td>\n",
       "    </tr>\n",
       "    <tr>\n",
       "      <th>new</th>\n",
       "      <td>165</td>\n",
       "    </tr>\n",
       "  </tbody>\n",
       "</table>\n",
       "</div>"
      ],
      "text/plain": [
       "             count\n",
       "covid19        229\n",
       "economy        200\n",
       "oann           192\n",
       "coronavirus    177\n",
       "new            165"
      ]
     },
     "execution_count": 74,
     "metadata": {},
     "output_type": "execute_result"
    }
   ],
   "source": [
    "hashtag_count = {}\n",
    "for tweet in tweets.find({\"hashtags\":{\"$ne\":[]}},{\"hashtags\":1, \"_id\":0}):\n",
    "    ht = tweet[\"hashtags\"]\n",
    "    for hash in ht:\n",
    "        hash = hash.lower()\n",
    "        if hash not in hashtag_count:\n",
    "            hashtag_count[hash] = 1\n",
    "        else:\n",
    "            hashtag_count[hash] += 1\n",
    "hashtags = pd.DataFrame.from_dict(hashtag_count, orient='index')\n",
    "hashtags = hashtags.rename(columns={0:\"count\"})\n",
    "hashtags = hashtags.sort_values(\"count\", ascending=False)\n",
    "hashtags.head(5)"
   ]
  },
  {
   "cell_type": "markdown",
   "metadata": {},
   "source": [
    "## Misc"
   ]
  },
  {
   "cell_type": "code",
   "execution_count": 75,
   "metadata": {},
   "outputs": [
    {
     "data": {
      "text/plain": [
       "146"
      ]
     },
     "execution_count": 75,
     "metadata": {},
     "output_type": "execute_result"
    }
   ],
   "source": [
    "#???????\n",
    "myquery = {\"location\":\"New York, NY\"}\n",
    "\n",
    "tweets.count_documents(myquery)"
   ]
  },
  {
   "cell_type": "code",
   "execution_count": 76,
   "metadata": {},
   "outputs": [],
   "source": [
    "hashtag_count = {}\n",
    "for tweet in tweets.find():\n",
    "    ht = tweet[\"hashtags\"]\n",
    "    for hash in ht:\n",
    "        hash = hash.lower()\n",
    "        if hash not in hashtag_count:\n",
    "            hashtag_count[hash] = 1\n",
    "        else:\n",
    "            hashtag_count[hash] += 1\n",
    "\n",
    "hc = sorted(hashtag_count, key=hashtag_count.get, reverse=True)  # Sorting the top 10.\n",
    "count = 0\n",
    "\n",
    "for z in hc:\n",
    "    if count == 10:\n",
    "        break\n",
    "    jsonx = {\"hashtag\": z, \"count\": str(hashtag_count[z])}\n",
    "    count += 1\n",
    "# {k: v for k, v in sorted(hashtag_count.items(), key=lambda item: item[1])}"
   ]
  },
  {
   "cell_type": "markdown",
   "metadata": {},
   "source": [
    "## Experimenting with text index"
   ]
  },
  {
   "cell_type": "code",
   "execution_count": 28,
   "metadata": {},
   "outputs": [],
   "source": [
    "#Connect to the mongoDB database\n",
    "client = pymongo.MongoClient()\n",
    "db1 = client[\"TWT_DB\"]\n",
    "test = db1[\"test\"]"
   ]
  },
  {
   "cell_type": "code",
   "execution_count": 29,
   "metadata": {},
   "outputs": [
    {
     "data": {
      "text/plain": [
       "'content_text'"
      ]
     },
     "execution_count": 29,
     "metadata": {},
     "output_type": "execute_result"
    }
   ],
   "source": [
    "#Create a test index\n",
    "db1.test.create_index([(\"content\",pymongo.TEXT)])"
   ]
  },
  {
   "cell_type": "code",
   "execution_count": 30,
   "metadata": {},
   "outputs": [
    {
     "data": {
      "text/plain": [
       "{'_id': ObjectId('5ea66afbfb8f5ff7fd474756'),\n",
       " 'id_str': '1253752842361483265',\n",
       " 'user_name': 'Dr. Marcell Vollmer #SocialDistancing #StayHome',\n",
       " 'user_id': '99674560',\n",
       " 'content': 'The Great #Lockdown of the economy has been completely unprecedented, both in terms of the speed of the shutdown and its impact on jobs.\\n\\n #coronavirus #COVID19 #health #COVIDー19 #worklife #motivation #FutureofWork #Leadership #WorkLifeBalance #USA\\n\\n https://t.co/yoEHiyJcxc',\n",
       " 'created_at': '2020-04-24 18:29:05',\n",
       " 'location': 'Munich, Bavaria',\n",
       " 'hashtags': ['Lockdown',\n",
       "  'coronavirus',\n",
       "  'COVID19',\n",
       "  'health',\n",
       "  'COVIDー19',\n",
       "  'worklife',\n",
       "  'motivation',\n",
       "  'FutureofWork',\n",
       "  'Leadership',\n",
       "  'WorkLifeBalance',\n",
       "  'USA'],\n",
       " 'mentions': [],\n",
       " 'in_reply_to_user_id': None,\n",
       " 'in_reply_to_status_id': None,\n",
       " 'retweetedFrom': -1,\n",
       " 'media': [],\n",
       " 'retweet': False,\n",
       " 'FavCount': 6,\n",
       " 'source': 'Twitter for iPad',\n",
       " 'retweet_count': 4}"
      ]
     },
     "execution_count": 30,
     "metadata": {},
     "output_type": "execute_result"
    }
   ],
   "source": [
    "twts1 = db1.test.find({\"$text\": {\"$search\": \"\\\"#covid19\\\"\" } } )\n",
    "twts1 = list(twts1)\n",
    "twts1[0]"
   ]
  },
  {
   "cell_type": "code",
   "execution_count": 31,
   "metadata": {},
   "outputs": [
    {
     "data": {
      "text/plain": [
       "396"
      ]
     },
     "execution_count": 31,
     "metadata": {},
     "output_type": "execute_result"
    }
   ],
   "source": [
    "len(twts1)"
   ]
  },
  {
   "cell_type": "code",
   "execution_count": 58,
   "metadata": {},
   "outputs": [
    {
     "data": {
      "text/plain": [
       "{'_id': ObjectId('5ea66afbfb8f5ff7fd474756'),\n",
       " 'id_str': '1253752842361483265',\n",
       " 'user_name': 'Dr. Marcell Vollmer #SocialDistancing #StayHome',\n",
       " 'user_id': '99674560',\n",
       " 'content': 'The Great #Lockdown of the economy has been completely unprecedented, both in terms of the speed of the shutdown and its impact on jobs.\\n\\n #coronavirus #COVID19 #health #COVIDー19 #worklife #motivation #FutureofWork #Leadership #WorkLifeBalance #USA\\n\\n https://t.co/yoEHiyJcxc',\n",
       " 'created_at': '2020-04-24 18:29:05',\n",
       " 'location': 'Munich, Bavaria',\n",
       " 'hashtags': ['Lockdown',\n",
       "  'coronavirus',\n",
       "  'COVID19',\n",
       "  'health',\n",
       "  'COVIDー19',\n",
       "  'worklife',\n",
       "  'motivation',\n",
       "  'FutureofWork',\n",
       "  'Leadership',\n",
       "  'WorkLifeBalance',\n",
       "  'USA'],\n",
       " 'mentions': [],\n",
       " 'in_reply_to_user_id': None,\n",
       " 'in_reply_to_status_id': None,\n",
       " 'retweetedFrom': -1,\n",
       " 'media': [],\n",
       " 'retweet': False,\n",
       " 'FavCount': 6,\n",
       " 'source': 'Twitter for iPad',\n",
       " 'retweet_count': 4}"
      ]
     },
     "execution_count": 58,
     "metadata": {},
     "output_type": "execute_result"
    }
   ],
   "source": [
    "twts1 = db1.test.find({\"$text\": {\"$search\": \"covid19\"} } )\n",
    "twts1 = list(twts1)\n",
    "twts1[0]"
   ]
  },
  {
   "cell_type": "code",
   "execution_count": 56,
   "metadata": {},
   "outputs": [
    {
     "data": {
      "text/plain": [
       "408"
      ]
     },
     "execution_count": 56,
     "metadata": {},
     "output_type": "execute_result"
    }
   ],
   "source": [
    "len(twts1)"
   ]
  },
  {
   "cell_type": "code",
   "execution_count": 44,
   "metadata": {
    "scrolled": true
   },
   "outputs": [
    {
     "data": {
      "text/plain": [
       "{'queryPlanner': {'plannerVersion': 1,\n",
       "  'namespace': 'TWT_DB.test',\n",
       "  'indexFilterSet': False,\n",
       "  'parsedQuery': {'$text': {'$search': 'covid19',\n",
       "    '$language': 'english',\n",
       "    '$caseSensitive': False,\n",
       "    '$diacriticSensitive': False}},\n",
       "  'winningPlan': {'stage': 'TEXT',\n",
       "   'indexPrefix': {},\n",
       "   'indexName': 'content_text',\n",
       "   'parsedTextQuery': {'terms': ['covid19'],\n",
       "    'negatedTerms': [],\n",
       "    'phrases': [],\n",
       "    'negatedPhrases': []},\n",
       "   'textIndexVersion': 3,\n",
       "   'inputStage': {'stage': 'TEXT_MATCH',\n",
       "    'inputStage': {'stage': 'FETCH',\n",
       "     'inputStage': {'stage': 'OR',\n",
       "      'inputStage': {'stage': 'IXSCAN',\n",
       "       'keyPattern': {'_fts': 'text', '_ftsx': 1},\n",
       "       'indexName': 'content_text',\n",
       "       'isMultiKey': True,\n",
       "       'isUnique': False,\n",
       "       'isSparse': False,\n",
       "       'isPartial': False,\n",
       "       'indexVersion': 2,\n",
       "       'direction': 'backward',\n",
       "       'indexBounds': {}}}}}},\n",
       "  'rejectedPlans': []},\n",
       " 'executionStats': {'executionSuccess': True,\n",
       "  'nReturned': 408,\n",
       "  'executionTimeMillis': 1,\n",
       "  'totalKeysExamined': 408,\n",
       "  'totalDocsExamined': 408,\n",
       "  'executionStages': {'stage': 'TEXT',\n",
       "   'nReturned': 408,\n",
       "   'executionTimeMillisEstimate': 0,\n",
       "   'works': 409,\n",
       "   'advanced': 408,\n",
       "   'needTime': 0,\n",
       "   'needYield': 0,\n",
       "   'saveState': 3,\n",
       "   'restoreState': 3,\n",
       "   'isEOF': 1,\n",
       "   'indexPrefix': {},\n",
       "   'indexName': 'content_text',\n",
       "   'parsedTextQuery': {'terms': ['covid19'],\n",
       "    'negatedTerms': [],\n",
       "    'phrases': [],\n",
       "    'negatedPhrases': []},\n",
       "   'textIndexVersion': 3,\n",
       "   'inputStage': {'stage': 'TEXT_MATCH',\n",
       "    'nReturned': 408,\n",
       "    'executionTimeMillisEstimate': 0,\n",
       "    'works': 409,\n",
       "    'advanced': 408,\n",
       "    'needTime': 0,\n",
       "    'needYield': 0,\n",
       "    'saveState': 3,\n",
       "    'restoreState': 3,\n",
       "    'isEOF': 1,\n",
       "    'docsRejected': 0,\n",
       "    'inputStage': {'stage': 'FETCH',\n",
       "     'nReturned': 408,\n",
       "     'executionTimeMillisEstimate': 0,\n",
       "     'works': 409,\n",
       "     'advanced': 408,\n",
       "     'needTime': 0,\n",
       "     'needYield': 0,\n",
       "     'saveState': 3,\n",
       "     'restoreState': 3,\n",
       "     'isEOF': 1,\n",
       "     'docsExamined': 408,\n",
       "     'alreadyHasObj': 0,\n",
       "     'inputStage': {'stage': 'OR',\n",
       "      'nReturned': 408,\n",
       "      'executionTimeMillisEstimate': 0,\n",
       "      'works': 409,\n",
       "      'advanced': 408,\n",
       "      'needTime': 0,\n",
       "      'needYield': 0,\n",
       "      'saveState': 3,\n",
       "      'restoreState': 3,\n",
       "      'isEOF': 1,\n",
       "      'dupsTested': 408,\n",
       "      'dupsDropped': 0,\n",
       "      'inputStage': {'stage': 'IXSCAN',\n",
       "       'nReturned': 408,\n",
       "       'executionTimeMillisEstimate': 0,\n",
       "       'works': 409,\n",
       "       'advanced': 408,\n",
       "       'needTime': 0,\n",
       "       'needYield': 0,\n",
       "       'saveState': 3,\n",
       "       'restoreState': 3,\n",
       "       'isEOF': 1,\n",
       "       'keyPattern': {'_fts': 'text', '_ftsx': 1},\n",
       "       'indexName': 'content_text',\n",
       "       'isMultiKey': True,\n",
       "       'isUnique': False,\n",
       "       'isSparse': False,\n",
       "       'isPartial': False,\n",
       "       'indexVersion': 2,\n",
       "       'direction': 'backward',\n",
       "       'indexBounds': {},\n",
       "       'keysExamined': 408,\n",
       "       'seeks': 1,\n",
       "       'dupsTested': 408,\n",
       "       'dupsDropped': 0}}}}},\n",
       "  'allPlansExecution': []},\n",
       " 'serverInfo': {'host': 'DESKTOP-T0J0HGC',\n",
       "  'port': 27017,\n",
       "  'version': '4.2.6',\n",
       "  'gitVersion': '20364840b8f1af16917e4c23c1b5f5efd8b352f8'},\n",
       " 'ok': 1.0}"
      ]
     },
     "execution_count": 44,
     "metadata": {},
     "output_type": "execute_result"
    }
   ],
   "source": [
    "db1.test.find({\"$text\":{\"$search\": \"covid19\"}}).explain()"
   ]
  },
  {
   "cell_type": "code",
   "execution_count": 36,
   "metadata": {},
   "outputs": [],
   "source": [
    "#Connect to the mongoDB database\n",
    "client = pymongo.MongoClient()\n",
    "db = client[\"TWT_DB\"]\n",
    "tweets = db[\"tweets\"]"
   ]
  },
  {
   "cell_type": "code",
   "execution_count": 50,
   "metadata": {},
   "outputs": [
    {
     "data": {
      "text/plain": [
       "{'queryPlanner': {'plannerVersion': 1,\n",
       "  'namespace': 'TWT_DB.tweets',\n",
       "  'indexFilterSet': False,\n",
       "  'parsedQuery': {'content': {'$regex': 'covid19', '$options': 'i'}},\n",
       "  'winningPlan': {'stage': 'COLLSCAN',\n",
       "   'filter': {'content': {'$regex': 'covid19', '$options': 'i'}},\n",
       "   'direction': 'forward'},\n",
       "  'rejectedPlans': []},\n",
       " 'executionStats': {'executionSuccess': True,\n",
       "  'nReturned': 413,\n",
       "  'executionTimeMillis': 11,\n",
       "  'totalKeysExamined': 0,\n",
       "  'totalDocsExamined': 15429,\n",
       "  'executionStages': {'stage': 'COLLSCAN',\n",
       "   'filter': {'content': {'$regex': 'covid19', '$options': 'i'}},\n",
       "   'nReturned': 413,\n",
       "   'executionTimeMillisEstimate': 0,\n",
       "   'works': 15431,\n",
       "   'advanced': 413,\n",
       "   'needTime': 15017,\n",
       "   'needYield': 0,\n",
       "   'saveState': 120,\n",
       "   'restoreState': 120,\n",
       "   'isEOF': 1,\n",
       "   'direction': 'forward',\n",
       "   'docsExamined': 15429},\n",
       "  'allPlansExecution': []},\n",
       " 'serverInfo': {'host': 'DESKTOP-T0J0HGC',\n",
       "  'port': 27017,\n",
       "  'version': '4.2.6',\n",
       "  'gitVersion': '20364840b8f1af16917e4c23c1b5f5efd8b352f8'},\n",
       " 'ok': 1.0}"
      ]
     },
     "execution_count": 50,
     "metadata": {},
     "output_type": "execute_result"
    }
   ],
   "source": [
    "db.tweets.find({\"content\":{\"$regex\":\"covid19\",\"$options\" :'i'}}).explain()"
   ]
  },
  {
   "cell_type": "code",
   "execution_count": 59,
   "metadata": {},
   "outputs": [],
   "source": [
    "client.close()"
   ]
  },
  {
   "cell_type": "code",
   "execution_count": null,
   "metadata": {},
   "outputs": [],
   "source": []
  },
  {
   "cell_type": "code",
   "execution_count": null,
   "metadata": {},
   "outputs": [],
   "source": []
  },
  {
   "cell_type": "code",
   "execution_count": null,
   "metadata": {},
   "outputs": [],
   "source": []
  },
  {
   "cell_type": "code",
   "execution_count": null,
   "metadata": {},
   "outputs": [],
   "source": []
  },
  {
   "cell_type": "code",
   "execution_count": 23,
   "metadata": {},
   "outputs": [
    {
     "data": {
      "text/plain": [
       "[{'_id': ObjectId('5ea77cf6c9283bc56a26e378'),\n",
       "  'id_str': '1254804431931047939',\n",
       "  'user_name': 'TTDINK50⭐️⭐️⭐️',\n",
       "  'user_id': '4857963897',\n",
       "  'content': 'Food shortage hapenning!\\n carne y escases en USA! y el mundo sera afectado!\\n#NoMoreLockDown\\n#OPENAMERICANOW\\n#economy\\n#Trump2020NowMoreThanEver\\n#AlertaCOVID19SV\\n#QuedateEnCasa\\n#ElSalvadorEnCuarentena\\n#economiaelsalvador\\n#4TNosDejaSinComida\\n#cordonsanitario\\n\\nhttps://t.co/3ZACV0sS0u',\n",
       "  'created_at': '2020-04-27 16:07:44',\n",
       "  'location': 'USA',\n",
       "  'hashtags': ['NoMoreLockDown', 'OPENAMERICANOW', 'economy'],\n",
       "  'mentions': ['999825601610461184'],\n",
       "  'in_reply_to_user_id': None,\n",
       "  'in_reply_to_status_id': None,\n",
       "  'retweetedFrom': '999825601610461184',\n",
       "  'media': [],\n",
       "  'retweet': True,\n",
       "  'FavCount': -1,\n",
       "  'source': 'Twitter Web App',\n",
       "  'retweet_count': 1},\n",
       " {'_id': ObjectId('5ea77d26c9283bc56a26eeb9'),\n",
       "  'id_str': '1254579387464212487',\n",
       "  'user_name': 'J Cassidy',\n",
       "  'user_id': '718527880284610561',\n",
       "  'content': \"@realDonaldTrump Read the Constitution. You're embarrassing yourself again... #Trump #coronavirus #COVID19  https://t.co/bCRHRusB3I\",\n",
       "  'created_at': '2020-04-27 01:13:29',\n",
       "  'location': '',\n",
       "  'hashtags': ['Trump', 'coronavirus', 'COVID19'],\n",
       "  'mentions': ['123281100', '25073877'],\n",
       "  'in_reply_to_user_id': None,\n",
       "  'in_reply_to_status_id': None,\n",
       "  'retweetedFrom': '123281100',\n",
       "  'media': [],\n",
       "  'retweet': True,\n",
       "  'FavCount': -1,\n",
       "  'source': 'Twitter Web App',\n",
       "  'retweet_count': 826},\n",
       " {'_id': ObjectId('5ea77d58c9283bc56a26f956'),\n",
       "  'id_str': '1254455395009146880',\n",
       "  'user_name': 'Coronavirus Information',\n",
       "  'user_id': '1234585506165465088',\n",
       "  'content': 'White House senior adviser Kevin Hassett warned Sunday outlook for U.S economy hard hit by COVID-19 coronavirus pandemic is \"really grave situation,\" and unemployment rates could reach levels seen during Great Depression\\n#Covid19 #sarscov2 #coronavirus #pandemic #trumpcoronavirus https://t.co/SMlwBZjnx3',\n",
       "  'created_at': '2020-04-26 17:00:47',\n",
       "  'location': '',\n",
       "  'hashtags': ['Covid19',\n",
       "   'sarscov2',\n",
       "   'coronavirus',\n",
       "   'pandemic',\n",
       "   'trumpcoronavirus'],\n",
       "  'mentions': [],\n",
       "  'in_reply_to_user_id': None,\n",
       "  'in_reply_to_status_id': None,\n",
       "  'retweetedFrom': -1,\n",
       "  'media': ['https://t.co/SMlwBZjnx3'],\n",
       "  'retweet': False,\n",
       "  'FavCount': 0,\n",
       "  'source': 'Twitter for Android',\n",
       "  'retweet_count': 0},\n",
       " {'_id': ObjectId('5ea77d67c9283bc56a26fc98'),\n",
       "  'id_str': '1254406572010242050',\n",
       "  'user_name': 'Hotpage News',\n",
       "  'user_id': '23954327',\n",
       "  'content': \"Sinking U.S. economy hasn't hit bottom yet #COVID19 #Coronavirus #SocialDistancing #flattenthecurve #trump - https://t.co/Y8uKWdReuc\",\n",
       "  'created_at': '2020-04-26 13:46:47',\n",
       "  'location': 'United States',\n",
       "  'hashtags': ['COVID19',\n",
       "   'Coronavirus',\n",
       "   'SocialDistancing',\n",
       "   'flattenthecurve',\n",
       "   'trump'],\n",
       "  'mentions': [],\n",
       "  'in_reply_to_user_id': None,\n",
       "  'in_reply_to_status_id': None,\n",
       "  'retweetedFrom': -1,\n",
       "  'media': [],\n",
       "  'retweet': False,\n",
       "  'FavCount': 0,\n",
       "  'source': 'Twitter Web Client',\n",
       "  'retweet_count': 0},\n",
       " {'_id': ObjectId('5ea77dbdc9283bc56a270cc3'),\n",
       "  'id_str': '1254130426236436485',\n",
       "  'user_name': 'Carlos Chacon',\n",
       "  'user_id': '999825601610461184',\n",
       "  'content': 'Food shortage hapenning!\\n carne y escases en USA! y el mundo sera afectado!\\n#NoMoreLockDown\\n#OPENAMERICANOW\\n#economy\\n#Trump2020NowMoreThanEver\\n#AlertaCOVID19SV\\n#QuedateEnCasa\\n#ElSalvadorEnCuarentena\\n#economiaelsalvador\\n#4TNosDejaSinComida\\n#cordonsanitario\\n\\nhttps://t.co/3ZACV0sS0u',\n",
       "  'created_at': '2020-04-25 19:29:28',\n",
       "  'location': 'Los Angeles, CA',\n",
       "  'hashtags': ['NoMoreLockDown',\n",
       "   'OPENAMERICANOW',\n",
       "   'economy',\n",
       "   'Trump2020NowMoreThanEver',\n",
       "   'AlertaCOVID19SV',\n",
       "   'QuedateEnCasa',\n",
       "   'ElSalvadorEnCuarentena',\n",
       "   'economiaelsalvador',\n",
       "   '4TNosDejaSinComida',\n",
       "   'cordonsanitario'],\n",
       "  'mentions': [],\n",
       "  'in_reply_to_user_id': None,\n",
       "  'in_reply_to_status_id': None,\n",
       "  'retweetedFrom': -1,\n",
       "  'media': [],\n",
       "  'retweet': False,\n",
       "  'FavCount': 1,\n",
       "  'source': 'Twitter for Android',\n",
       "  'retweet_count': 1}]"
      ]
     },
     "execution_count": 23,
     "metadata": {},
     "output_type": "execute_result"
    }
   ],
   "source": [
    "#search by two words\n",
    "twts = tweets.find( {\n",
    "    \"$and\" : [\n",
    "        {\"content\":{\"$regex\":\"covid19\",\"$options\" :'i'}} , {\"content\":{\"$regex\":\"#trump\",\"$options\" :'i'}}\n",
    "    ]\n",
    "} )\n",
    "twts = list(twts)\n",
    "twts"
   ]
  },
  {
   "cell_type": "code",
   "execution_count": null,
   "metadata": {},
   "outputs": [],
   "source": []
  }
 ],
 "metadata": {
  "kernelspec": {
   "display_name": "Python 3",
   "language": "python",
   "name": "python3"
  },
  "language_info": {
   "codemirror_mode": {
    "name": "ipython",
    "version": 3
   },
   "file_extension": ".py",
   "mimetype": "text/x-python",
   "name": "python",
   "nbconvert_exporter": "python",
   "pygments_lexer": "ipython3",
   "version": "3.6.5"
  }
 },
 "nbformat": 4,
 "nbformat_minor": 2
}
