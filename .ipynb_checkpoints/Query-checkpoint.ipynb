{
 "cells": [
  {
   "cell_type": "markdown",
   "metadata": {},
   "source": [
    "# Queries for the search application"
   ]
  },
  {
   "cell_type": "code",
   "execution_count": 1,
   "metadata": {},
   "outputs": [
    {
     "name": "stderr",
     "output_type": "stream",
     "text": [
      "/usr/local/lib/python3.6/importlib/_bootstrap.py:219: RuntimeWarning: numpy.dtype size changed, may indicate binary incompatibility. Expected 96, got 88\n",
      "  return f(*args, **kwds)\n",
      "/usr/local/lib/python3.6/importlib/_bootstrap.py:219: RuntimeWarning: numpy.dtype size changed, may indicate binary incompatibility. Expected 96, got 88\n",
      "  return f(*args, **kwds)\n"
     ]
    }
   ],
   "source": [
    "import pandas as pd\n",
    "import json\n",
    "import pymongo\n",
    "import io\n",
    "import pprint\n",
    "import itertools"
   ]
  },
  {
   "cell_type": "code",
   "execution_count": 4,
   "metadata": {},
   "outputs": [],
   "source": [
    "#Connect to the mongoDB database\n",
    "client = pymongo.MongoClient()\n",
    "db = client[\"tweet_database\"]\n",
    "tweets = db.tweets_collection"
   ]
  },
  {
   "cell_type": "code",
   "execution_count": 5,
   "metadata": {},
   "outputs": [
    {
     "data": {
      "text/plain": [
       "{'_id': ObjectId('5ea77ccfc9283bc56a26dae1'),\n",
       " 'id_str': '1254934763736928256',\n",
       " 'user_name': 'Jay@pandiyan',\n",
       " 'user_id': '1188788321532559361',\n",
       " 'content': 'The U.S. economy could contract 20%-30 in Q2, White House senior economic advisor Kevin Hassett said this morning. “For second-quarter GDP, it’s going to be the biggest negative number that we’ve seen since the Great Depression.” https://t.co/xMTKVRbmU1 https://t.co/cF9nyAEh2g',\n",
       " 'created_at': '2020-04-28 00:45:37',\n",
       " 'location': 'Tamil Nadu, India',\n",
       " 'hashtags': [],\n",
       " 'mentions': ['20402945'],\n",
       " 'in_reply_to_user_id': None,\n",
       " 'in_reply_to_status_id': None,\n",
       " 'retweetedFrom': '20402945',\n",
       " 'media': [],\n",
       " 'retweet': True,\n",
       " 'FavCount': -1,\n",
       " 'source': 'Twitter for Android',\n",
       " 'retweet_count': 9}"
      ]
     },
     "execution_count": 5,
     "metadata": {},
     "output_type": "execute_result"
    }
   ],
   "source": [
    "#Document(row) sample from the mongoDB database \n",
    "myquery = {}\n",
    "mydoc = list(tweets.find(myquery))\n",
    "mydoc[0]"
   ]
  },
  {
   "cell_type": "markdown",
   "metadata": {},
   "source": [
    "## Lets learn about our data"
   ]
  },
  {
   "cell_type": "code",
   "execution_count": 8,
   "metadata": {},
   "outputs": [
    {
     "data": {
      "text/plain": [
       "{'original': 12055, 'retweets': 3514}"
      ]
     },
     "execution_count": 8,
     "metadata": {},
     "output_type": "execute_result"
    }
   ],
   "source": [
    "## Original vs retweet count\n",
    "tweet_type = {'original': 0, 'retweets': 0}\n",
    "\n",
    "for tweet in tweets.find():\n",
    "    if tweet['retweet'] == True:\n",
    "        tweet_type['original'] += 1\n",
    "    else:\n",
    "        tweet_type['retweets'] += 1\n",
    "tweet_type"
   ]
  },
  {
   "cell_type": "code",
   "execution_count": 10,
   "metadata": {},
   "outputs": [
    {
     "data": {
      "text/plain": [
       "{'text': 14402, 'Only_image': 0, 'both': 1167}"
      ]
     },
     "execution_count": 10,
     "metadata": {},
     "output_type": "execute_result"
    }
   ],
   "source": [
    "## Type of media in our dataset\n",
    "type_count = {\"text\": 0, \"Only_image\":0, \"both\":0}\n",
    "for tweet in tweets.find():\n",
    "    md = tweet[\"media\"]\n",
    "    if len(md) != 0:\n",
    "        if tweet[\"content\"] == \"\":\n",
    "            type_count[\"image\"] += 1 # Only Image\n",
    "        else:\n",
    "            type_count[\"both\"] += 1 # Image and text\n",
    "    else:\n",
    "        type_count[\"text\"] += 1 # Only text\n",
    "\n",
    "type_count"
   ]
  },
  {
   "cell_type": "code",
   "execution_count": 12,
   "metadata": {},
   "outputs": [
    {
     "name": "stdout",
     "output_type": "stream",
     "text": [
      "14155 distinct user out of 15569 total user\n"
     ]
    },
    {
     "name": "stderr",
     "output_type": "stream",
     "text": [
      "/usr/local/lib/python3.6/site-packages/ipykernel_launcher.py:6: DeprecationWarning: count is deprecated. Use estimated_document_count or count_documents instead. Please note that $where must be replaced by $expr, $near must be replaced by $geoWithin with $center, and $nearSphere must be replaced by $geoWithin with $centerSphere\n",
      "  \n"
     ]
    }
   ],
   "source": [
    "## Number of distint user in database\n",
    "distinct_users = set()\n",
    "\n",
    "for tweet in tweets.find():\n",
    "    distinct_users.add(tweet['user_id'])\n",
    "\n",
    "print(\"{} distinct user out of {} total user\".format(len(distinct_users), tweets.count()))"
   ]
  },
  {
   "cell_type": "code",
   "execution_count": 16,
   "metadata": {},
   "outputs": [
    {
     "name": "stdout",
     "output_type": "stream",
     "text": [
      "12676\n"
     ]
    },
    {
     "data": {
      "text/plain": [
       "{'_id': ObjectId('5ea77dc7c9283bc56a270ebc'),\n",
       " 'id_str': '1254112304754556929',\n",
       " 'user_name': 'J',\n",
       " 'user_id': '785827332',\n",
       " 'content': \"3 companies with ties to the Trump admin. received millions under the PPP program. Another got a loan from a bank that once employed its board's chair. https://t.co/GcgqwGPe43\",\n",
       " 'created_at': '2020-04-25 18:17:28',\n",
       " 'location': 'The World',\n",
       " 'hashtags': [],\n",
       " 'mentions': ['14173315'],\n",
       " 'in_reply_to_user_id': None,\n",
       " 'in_reply_to_status_id': None,\n",
       " 'retweetedFrom': '14173315',\n",
       " 'media': [],\n",
       " 'retweet': True,\n",
       " 'FavCount': -1,\n",
       " 'source': 'Twitter for iPhone',\n",
       " 'retweet_count': 12676}"
      ]
     },
     "execution_count": 16,
     "metadata": {},
     "output_type": "execute_result"
    }
   ],
   "source": [
    "## Tweet with  maximum retweet count\n",
    "max_retweet_count = 0\n",
    "for tweet in tweets.find():\n",
    "    if tweet['retweet_count']>max_retweet_count:\n",
    "        max_retweet_count = tweet['retweet_count']\n",
    "        tweet_id = tweet['id_str']\n",
    "print(max_retweet_count)\n",
    "\n",
    "myquery = {'id_str': tweet_id}\n",
    "twts = list(tweets.find(myquery))\n",
    "twts[0]"
   ]
  },
  {
   "cell_type": "code",
   "execution_count": 17,
   "metadata": {},
   "outputs": [
    {
     "name": "stdout",
     "output_type": "stream",
     "text": [
      "4708\n"
     ]
    },
    {
     "data": {
      "text/plain": [
       "{'_id': ObjectId('5ea77daec9283bc56a2709fb'),\n",
       " 'id_str': '1254168393638449153',\n",
       " 'user_name': 'POLITICO',\n",
       " 'user_id': '9300262',\n",
       " 'content': 'Dr. Anthony Fauci says the U.S. should at least double coronavirus testing in the coming weeks before easing into reopening the economy https://t.co/9LrRsvl1qX',\n",
       " 'created_at': '2020-04-25 22:00:21',\n",
       " 'location': 'Washington, D.C.',\n",
       " 'hashtags': [],\n",
       " 'mentions': [],\n",
       " 'in_reply_to_user_id': None,\n",
       " 'in_reply_to_status_id': None,\n",
       " 'retweetedFrom': -1,\n",
       " 'media': [],\n",
       " 'retweet': False,\n",
       " 'FavCount': 4708,\n",
       " 'source': 'Hootsuite Inc.',\n",
       " 'retweet_count': 1752}"
      ]
     },
     "execution_count": 17,
     "metadata": {},
     "output_type": "execute_result"
    }
   ],
   "source": [
    "## Tweet with  maximum favorite count\n",
    "max_FavCount = 0\n",
    "for tweet in tweets.find():\n",
    "    if tweet['FavCount']>max_FavCount:\n",
    "        max_FavCount = tweet['FavCount']\n",
    "        tweet_id = tweet['id_str']\n",
    "print(max_FavCount)\n",
    "\n",
    "myquery = {'id_str': tweet_id}\n",
    "twts = list(tweets.find(myquery))\n",
    "twts[0]"
   ]
  },
  {
   "cell_type": "markdown",
   "metadata": {},
   "source": [
    "## Search by word"
   ]
  },
  {
   "cell_type": "code",
   "execution_count": 4,
   "metadata": {},
   "outputs": [
    {
     "data": {
      "text/plain": [
       "413"
      ]
     },
     "execution_count": 4,
     "metadata": {},
     "output_type": "execute_result"
    }
   ],
   "source": [
    "#Find number of tweets with word\n",
    "myquery = {\"content\":{\"$regex\":\"covid19\",\"$options\" :'i'}}\n",
    "tweets.count_documents(myquery)"
   ]
  },
  {
   "cell_type": "code",
   "execution_count": 5,
   "metadata": {},
   "outputs": [
    {
     "data": {
      "text/plain": [
       "{'_id': ObjectId('5ea66a14fb8f5ff7fd4712a9'),\n",
       " 'id_str': '1254636770051928071',\n",
       " 'user_name': 'Pamela Moore #WWG1WGA #DIGITALSOLDIERS',\n",
       " 'user_id': '1188695886781698050',\n",
       " 'content': 'Met virtually with our terrific @AmChamPH Board on how U.S. firms are supporting the Philippine economy, workforce, and #COVID19 response. We’re all in this together, and great to \\u200bsee U.S. firms contributing in so many ways. #FriendsPartnersAllies #goodbUSinessPH',\n",
       " 'created_at': '2020-04-27 05:01:30',\n",
       " 'location': 'Broken Arrow, OK',\n",
       " 'hashtags': [],\n",
       " 'mentions': ['441540997', '4745918652'],\n",
       " 'in_reply_to_user_id': None,\n",
       " 'in_reply_to_status_id': None,\n",
       " 'retweetedFrom': '441540997',\n",
       " 'media': [],\n",
       " 'retweet': True,\n",
       " 'FavCount': -1,\n",
       " 'source': 'Twitter for Android',\n",
       " 'retweet_count': 118}"
      ]
     },
     "execution_count": 5,
     "metadata": {},
     "output_type": "execute_result"
    }
   ],
   "source": [
    "#Tweets\n",
    "twts = list(tweets.find(myquery))\n",
    "twts[0]"
   ]
  },
  {
   "cell_type": "markdown",
   "metadata": {},
   "source": [
    "## Search by a hashtag"
   ]
  },
  {
   "cell_type": "code",
   "execution_count": 8,
   "metadata": {},
   "outputs": [
    {
     "data": {
      "text/plain": [
       "{'_id': ObjectId('5ea66a14fb8f5ff7fd4712a9'),\n",
       " 'id_str': '1254636770051928071',\n",
       " 'user_name': 'Pamela Moore #WWG1WGA #DIGITALSOLDIERS',\n",
       " 'user_id': '1188695886781698050',\n",
       " 'content': 'Met virtually with our terrific @AmChamPH Board on how U.S. firms are supporting the Philippine economy, workforce, and #COVID19 response. We’re all in this together, and great to \\u200bsee U.S. firms contributing in so many ways. #FriendsPartnersAllies #goodbUSinessPH',\n",
       " 'created_at': '2020-04-27 05:01:30',\n",
       " 'location': 'Broken Arrow, OK',\n",
       " 'hashtags': [],\n",
       " 'mentions': ['441540997', '4745918652'],\n",
       " 'in_reply_to_user_id': None,\n",
       " 'in_reply_to_status_id': None,\n",
       " 'retweetedFrom': '441540997',\n",
       " 'media': [],\n",
       " 'retweet': True,\n",
       " 'FavCount': -1,\n",
       " 'source': 'Twitter for Android',\n",
       " 'retweet_count': 118}"
      ]
     },
     "execution_count": 8,
     "metadata": {},
     "output_type": "execute_result"
    }
   ],
   "source": [
    "# #Find number of tweets with #covid19 (Exact string put the specified string between the ^(Starts with) and $(Ends with))\n",
    "# myquery = {\"hashtags\":{\"$regex\":\"^covid19$\",\"$options\" :'i'}}\n",
    "#Search using a hashtag.\n",
    "myquery = {\"content\":{\"$regex\":\"#covid19\",\"$options\" :'i'}}\n",
    "twts = list(tweets.find(myquery))\n",
    "twts[0]"
   ]
  },
  {
   "cell_type": "code",
   "execution_count": 9,
   "metadata": {},
   "outputs": [
    {
     "data": {
      "text/plain": [
       "397"
      ]
     },
     "execution_count": 9,
     "metadata": {},
     "output_type": "execute_result"
    }
   ],
   "source": [
    "len(twts)"
   ]
  },
  {
   "cell_type": "markdown",
   "metadata": {},
   "source": [
    "## Search by time range"
   ]
  },
  {
   "cell_type": "code",
   "execution_count": 10,
   "metadata": {},
   "outputs": [
    {
     "data": {
      "text/plain": [
       "{'_id': ObjectId('5ea66a14fb8f5ff7fd471281'),\n",
       " 'id_str': '1254639834473230336',\n",
       " 'user_name': 'Dave Talltree, son of Wymo of Mokuleia',\n",
       " 'user_id': '1098317762626088961',\n",
       " 'content': 'Many U.S. businesses unlikely to seek government aid: NABE survey https://t.co/9bPT4YQN5I https://t.co/0B3ekpqymK',\n",
       " 'created_at': '2020-04-27 05:13:41',\n",
       " 'location': 'Keiki o ka ʻĀina ',\n",
       " 'hashtags': [],\n",
       " 'mentions': ['1652541'],\n",
       " 'in_reply_to_user_id': None,\n",
       " 'in_reply_to_status_id': None,\n",
       " 'retweetedFrom': '1652541',\n",
       " 'media': ['https://t.co/0B3ekpqymK'],\n",
       " 'retweet': True,\n",
       " 'FavCount': -1,\n",
       " 'source': 'Twitter Web App',\n",
       " 'retweet_count': 7}"
      ]
     },
     "execution_count": 10,
     "metadata": {},
     "output_type": "execute_result"
    }
   ],
   "source": [
    "# Search by Time range\n",
    "twts = db.tweets.find({\"created_at\":{ \"$gte\": \"2020-04-27 05:13:10\", \"$lt\": \"2020-04-27 05:13:50\" }})\n",
    "twts = list(twts)\n",
    "twts[0]"
   ]
  },
  {
   "cell_type": "code",
   "execution_count": 11,
   "metadata": {},
   "outputs": [
    {
     "data": {
      "text/plain": [
       "2"
      ]
     },
     "execution_count": 11,
     "metadata": {},
     "output_type": "execute_result"
    }
   ],
   "source": [
    "len(twts)"
   ]
  },
  {
   "cell_type": "markdown",
   "metadata": {},
   "source": [
    "## Search by user name"
   ]
  },
  {
   "cell_type": "code",
   "execution_count": 12,
   "metadata": {},
   "outputs": [
    {
     "data": {
      "text/plain": [
       "{'_id': ObjectId('5ea66a14fb8f5ff7fd471282'),\n",
       " 'id_str': '1254639809068519424',\n",
       " 'user_name': 'Howard',\n",
       " 'user_id': '2337724718',\n",
       " 'content': 'U.S.: bailout small businesses by giving grants to 5% of them\\n\\nJapan: bailout small businesses by giving 100% of them all the payroll money they need\\nhttps://t.co/10BjEDjjn3',\n",
       " 'created_at': '2020-04-27 05:13:35',\n",
       " 'location': 'New York, NY',\n",
       " 'hashtags': [],\n",
       " 'mentions': ['2172596028'],\n",
       " 'in_reply_to_user_id': None,\n",
       " 'in_reply_to_status_id': None,\n",
       " 'retweetedFrom': '2172596028',\n",
       " 'media': [],\n",
       " 'retweet': True,\n",
       " 'FavCount': -1,\n",
       " 'source': 'Twitter for iPhone',\n",
       " 'retweet_count': 240}"
      ]
     },
     "execution_count": 12,
     "metadata": {},
     "output_type": "execute_result"
    }
   ],
   "source": [
    "# Search by user_name\n",
    "twts = db.tweets.find({\"user_name\":\"Howard\"})\n",
    "twts = list(twts)\n",
    "twts[0]"
   ]
  },
  {
   "cell_type": "code",
   "execution_count": 13,
   "metadata": {},
   "outputs": [
    {
     "data": {
      "text/plain": [
       "1"
      ]
     },
     "execution_count": 13,
     "metadata": {},
     "output_type": "execute_result"
    }
   ],
   "source": [
    "len(twts)"
   ]
  },
  {
   "cell_type": "markdown",
   "metadata": {},
   "source": [
    "## Search by user_id"
   ]
  },
  {
   "cell_type": "code",
   "execution_count": 14,
   "metadata": {},
   "outputs": [
    {
     "data": {
      "text/plain": [
       "{'_id': ObjectId('5ea66a14fb8f5ff7fd471280'),\n",
       " 'id_str': '1254639872641576960',\n",
       " 'user_name': 'Xcntrik',\n",
       " 'user_id': '123628682',\n",
       " 'content': 'Many U.S. businesses unlikely to seek government aid: NABE survey https://t.co/9bPT4YQN5I https://t.co/0B3ekpqymK',\n",
       " 'created_at': '2020-04-27 05:13:50',\n",
       " 'location': 'Southeast Texas',\n",
       " 'hashtags': [],\n",
       " 'mentions': ['1652541'],\n",
       " 'in_reply_to_user_id': None,\n",
       " 'in_reply_to_status_id': None,\n",
       " 'retweetedFrom': '1652541',\n",
       " 'media': ['https://t.co/0B3ekpqymK'],\n",
       " 'retweet': True,\n",
       " 'FavCount': -1,\n",
       " 'source': 'Twitter for Android',\n",
       " 'retweet_count': 7}"
      ]
     },
     "execution_count": 14,
     "metadata": {},
     "output_type": "execute_result"
    }
   ],
   "source": [
    "# Search by user id\n",
    "twts = db.tweets.find({\"user_id\":\"123628682\"})\n",
    "twts = list(twts)\n",
    "twts[0]"
   ]
  },
  {
   "cell_type": "code",
   "execution_count": 15,
   "metadata": {},
   "outputs": [
    {
     "data": {
      "text/plain": [
       "2"
      ]
     },
     "execution_count": 15,
     "metadata": {},
     "output_type": "execute_result"
    }
   ],
   "source": [
    "len(twts)"
   ]
  },
  {
   "cell_type": "markdown",
   "metadata": {},
   "source": [
    "## Search by two words"
   ]
  },
  {
   "cell_type": "code",
   "execution_count": 16,
   "metadata": {},
   "outputs": [
    {
     "data": {
      "text/plain": [
       "{'_id': ObjectId('5ea66a1ffb8f5ff7fd47154e'),\n",
       " 'id_str': '1254579387464212487',\n",
       " 'user_name': 'J Cassidy',\n",
       " 'user_id': '718527880284610561',\n",
       " 'content': \"@realDonaldTrump Read the Constitution. You're embarrassing yourself again... #Trump #coronavirus #COVID19  https://t.co/bCRHRusB3I\",\n",
       " 'created_at': '2020-04-27 01:13:29',\n",
       " 'location': '',\n",
       " 'hashtags': ['Trump', 'coronavirus', 'COVID19'],\n",
       " 'mentions': ['123281100', '25073877'],\n",
       " 'in_reply_to_user_id': None,\n",
       " 'in_reply_to_status_id': None,\n",
       " 'retweetedFrom': '123281100',\n",
       " 'media': [],\n",
       " 'retweet': True,\n",
       " 'FavCount': -1,\n",
       " 'source': 'Twitter Web App',\n",
       " 'retweet_count': 826}"
      ]
     },
     "execution_count": 16,
     "metadata": {},
     "output_type": "execute_result"
    }
   ],
   "source": [
    "#search by two words\n",
    "twts = db.tweets.find( {\n",
    "    \"$and\" : [\n",
    "        {\"content\":{\"$regex\":\"covid19\",\"$options\" :'i'}} , {\"content\":{\"$regex\":\"#trump\",\"$options\" :'i'}}\n",
    "    ]\n",
    "} )\n",
    "twts = list(twts)\n",
    "twts[0]"
   ]
  },
  {
   "cell_type": "code",
   "execution_count": 17,
   "metadata": {},
   "outputs": [
    {
     "data": {
      "text/plain": [
       "9"
      ]
     },
     "execution_count": 17,
     "metadata": {},
     "output_type": "execute_result"
    }
   ],
   "source": [
    "len(twts)"
   ]
  },
  {
   "cell_type": "markdown",
   "metadata": {},
   "source": [
    "## Top five hashtags used"
   ]
  },
  {
   "cell_type": "code",
   "execution_count": 18,
   "metadata": {
    "scrolled": true
   },
   "outputs": [
    {
     "data": {
      "text/html": [
       "<div>\n",
       "<style scoped>\n",
       "    .dataframe tbody tr th:only-of-type {\n",
       "        vertical-align: middle;\n",
       "    }\n",
       "\n",
       "    .dataframe tbody tr th {\n",
       "        vertical-align: top;\n",
       "    }\n",
       "\n",
       "    .dataframe thead th {\n",
       "        text-align: right;\n",
       "    }\n",
       "</style>\n",
       "<table border=\"1\" class=\"dataframe\">\n",
       "  <thead>\n",
       "    <tr style=\"text-align: right;\">\n",
       "      <th></th>\n",
       "      <th>count</th>\n",
       "    </tr>\n",
       "  </thead>\n",
       "  <tbody>\n",
       "    <tr>\n",
       "      <th>covid19</th>\n",
       "      <td>222</td>\n",
       "    </tr>\n",
       "    <tr>\n",
       "      <th>trump2020</th>\n",
       "      <td>213</td>\n",
       "    </tr>\n",
       "    <tr>\n",
       "      <th>2a41a</th>\n",
       "      <td>209</td>\n",
       "    </tr>\n",
       "    <tr>\n",
       "      <th>veterans</th>\n",
       "      <td>209</td>\n",
       "    </tr>\n",
       "    <tr>\n",
       "      <th>alwayssupportourveterans</th>\n",
       "      <td>209</td>\n",
       "    </tr>\n",
       "  </tbody>\n",
       "</table>\n",
       "</div>"
      ],
      "text/plain": [
       "                          count\n",
       "covid19                     222\n",
       "trump2020                   213\n",
       "2a41a                       209\n",
       "veterans                    209\n",
       "alwayssupportourveterans    209"
      ]
     },
     "execution_count": 18,
     "metadata": {},
     "output_type": "execute_result"
    }
   ],
   "source": [
    "hashtag_count = {}\n",
    "for tweet in db.tweets.find({\"hashtags\":{\"$ne\":[]}},{\"hashtags\":1, \"_id\":0}):\n",
    "    ht = tweet[\"hashtags\"]\n",
    "    for hash in ht:\n",
    "        hash = hash.lower()\n",
    "        if hash not in hashtag_count:\n",
    "            hashtag_count[hash] = 1\n",
    "        else:\n",
    "            hashtag_count[hash] += 1\n",
    "hashtags = pd.DataFrame.from_dict(hashtag_count, orient='index')\n",
    "hashtags = hashtags.rename(columns={0:\"count\"})\n",
    "hashtags = hashtags.sort_values(\"count\", ascending=False)\n",
    "hashtags.head(5)"
   ]
  },
  {
   "cell_type": "markdown",
   "metadata": {},
   "source": [
    "## Misc"
   ]
  },
  {
   "cell_type": "code",
   "execution_count": 19,
   "metadata": {},
   "outputs": [
    {
     "data": {
      "text/plain": [
       "104"
      ]
     },
     "execution_count": 19,
     "metadata": {},
     "output_type": "execute_result"
    }
   ],
   "source": [
    "#???????\n",
    "myquery = {\"location\":\"New York, NY\"}\n",
    "\n",
    "tweets.count_documents(myquery)"
   ]
  },
  {
   "cell_type": "code",
   "execution_count": 20,
   "metadata": {},
   "outputs": [
    {
     "data": {
      "text/plain": [
       "'Number of original tweet:3306 and number of retweets:12123'"
      ]
     },
     "execution_count": 20,
     "metadata": {},
     "output_type": "execute_result"
    }
   ],
   "source": [
    "#Types of tweets\n",
    "count_retweet = tweets.count_documents({\"retweet\":True})\n",
    "count_original = tweets.count_documents({\"retweet\":False})\n",
    "\"Number of original tweet:\" + str(count_original) + \" and number of retweets:\" + str(count_retweet)"
   ]
  },
  {
   "cell_type": "code",
   "execution_count": 21,
   "metadata": {},
   "outputs": [],
   "source": [
    "hashtag_count = {}\n",
    "for tweet in tweets.find():\n",
    "    ht = tweet[\"hashtags\"]\n",
    "    for hash in ht:\n",
    "        hash = hash.lower()\n",
    "        if hash not in hashtag_count:\n",
    "            hashtag_count[hash] = 1\n",
    "        else:\n",
    "            hashtag_count[hash] += 1\n",
    "\n",
    "hc = sorted(hashtag_count, key=hashtag_count.get, reverse=True)  # Sorting the top 10.\n",
    "count = 0\n",
    "\n",
    "for z in hc:\n",
    "    if count == 10:\n",
    "        break\n",
    "    jsonx = {\"hashtag\": z, \"count\": str(hashtag_count[z])}\n",
    "    count += 1\n",
    "# {k: v for k, v in sorted(hashtag_count.items(), key=lambda item: item[1])}"
   ]
  },
  {
   "cell_type": "markdown",
   "metadata": {},
   "source": [
    "## Experimenting with text index"
   ]
  },
  {
   "cell_type": "code",
   "execution_count": 28,
   "metadata": {},
   "outputs": [],
   "source": [
    "#Connect to the mongoDB database\n",
    "client = pymongo.MongoClient()\n",
    "db1 = client[\"TWT_DB\"]\n",
    "test = db1[\"test\"]"
   ]
  },
  {
   "cell_type": "code",
   "execution_count": 29,
   "metadata": {},
   "outputs": [
    {
     "data": {
      "text/plain": [
       "'content_text'"
      ]
     },
     "execution_count": 29,
     "metadata": {},
     "output_type": "execute_result"
    }
   ],
   "source": [
    "#Create a test index\n",
    "db1.test.create_index([(\"content\",pymongo.TEXT)])"
   ]
  },
  {
   "cell_type": "code",
   "execution_count": 30,
   "metadata": {},
   "outputs": [
    {
     "data": {
      "text/plain": [
       "{'_id': ObjectId('5ea66afbfb8f5ff7fd474756'),\n",
       " 'id_str': '1253752842361483265',\n",
       " 'user_name': 'Dr. Marcell Vollmer #SocialDistancing #StayHome',\n",
       " 'user_id': '99674560',\n",
       " 'content': 'The Great #Lockdown of the economy has been completely unprecedented, both in terms of the speed of the shutdown and its impact on jobs.\\n\\n #coronavirus #COVID19 #health #COVIDー19 #worklife #motivation #FutureofWork #Leadership #WorkLifeBalance #USA\\n\\n https://t.co/yoEHiyJcxc',\n",
       " 'created_at': '2020-04-24 18:29:05',\n",
       " 'location': 'Munich, Bavaria',\n",
       " 'hashtags': ['Lockdown',\n",
       "  'coronavirus',\n",
       "  'COVID19',\n",
       "  'health',\n",
       "  'COVIDー19',\n",
       "  'worklife',\n",
       "  'motivation',\n",
       "  'FutureofWork',\n",
       "  'Leadership',\n",
       "  'WorkLifeBalance',\n",
       "  'USA'],\n",
       " 'mentions': [],\n",
       " 'in_reply_to_user_id': None,\n",
       " 'in_reply_to_status_id': None,\n",
       " 'retweetedFrom': -1,\n",
       " 'media': [],\n",
       " 'retweet': False,\n",
       " 'FavCount': 6,\n",
       " 'source': 'Twitter for iPad',\n",
       " 'retweet_count': 4}"
      ]
     },
     "execution_count": 30,
     "metadata": {},
     "output_type": "execute_result"
    }
   ],
   "source": [
    "twts1 = db1.test.find({\"$text\": {\"$search\": \"\\\"#covid19\\\"\" } } )\n",
    "twts1 = list(twts1)\n",
    "twts1[0]"
   ]
  },
  {
   "cell_type": "code",
   "execution_count": 31,
   "metadata": {},
   "outputs": [
    {
     "data": {
      "text/plain": [
       "396"
      ]
     },
     "execution_count": 31,
     "metadata": {},
     "output_type": "execute_result"
    }
   ],
   "source": [
    "len(twts1)"
   ]
  },
  {
   "cell_type": "code",
   "execution_count": 58,
   "metadata": {},
   "outputs": [
    {
     "data": {
      "text/plain": [
       "{'_id': ObjectId('5ea66afbfb8f5ff7fd474756'),\n",
       " 'id_str': '1253752842361483265',\n",
       " 'user_name': 'Dr. Marcell Vollmer #SocialDistancing #StayHome',\n",
       " 'user_id': '99674560',\n",
       " 'content': 'The Great #Lockdown of the economy has been completely unprecedented, both in terms of the speed of the shutdown and its impact on jobs.\\n\\n #coronavirus #COVID19 #health #COVIDー19 #worklife #motivation #FutureofWork #Leadership #WorkLifeBalance #USA\\n\\n https://t.co/yoEHiyJcxc',\n",
       " 'created_at': '2020-04-24 18:29:05',\n",
       " 'location': 'Munich, Bavaria',\n",
       " 'hashtags': ['Lockdown',\n",
       "  'coronavirus',\n",
       "  'COVID19',\n",
       "  'health',\n",
       "  'COVIDー19',\n",
       "  'worklife',\n",
       "  'motivation',\n",
       "  'FutureofWork',\n",
       "  'Leadership',\n",
       "  'WorkLifeBalance',\n",
       "  'USA'],\n",
       " 'mentions': [],\n",
       " 'in_reply_to_user_id': None,\n",
       " 'in_reply_to_status_id': None,\n",
       " 'retweetedFrom': -1,\n",
       " 'media': [],\n",
       " 'retweet': False,\n",
       " 'FavCount': 6,\n",
       " 'source': 'Twitter for iPad',\n",
       " 'retweet_count': 4}"
      ]
     },
     "execution_count": 58,
     "metadata": {},
     "output_type": "execute_result"
    }
   ],
   "source": [
    "twts1 = db1.test.find({\"$text\": {\"$search\": \"covid19\"} } )\n",
    "twts1 = list(twts1)\n",
    "twts1[0]"
   ]
  },
  {
   "cell_type": "code",
   "execution_count": 56,
   "metadata": {},
   "outputs": [
    {
     "data": {
      "text/plain": [
       "408"
      ]
     },
     "execution_count": 56,
     "metadata": {},
     "output_type": "execute_result"
    }
   ],
   "source": [
    "len(twts1)"
   ]
  },
  {
   "cell_type": "code",
   "execution_count": 44,
   "metadata": {
    "scrolled": true
   },
   "outputs": [
    {
     "data": {
      "text/plain": [
       "{'queryPlanner': {'plannerVersion': 1,\n",
       "  'namespace': 'TWT_DB.test',\n",
       "  'indexFilterSet': False,\n",
       "  'parsedQuery': {'$text': {'$search': 'covid19',\n",
       "    '$language': 'english',\n",
       "    '$caseSensitive': False,\n",
       "    '$diacriticSensitive': False}},\n",
       "  'winningPlan': {'stage': 'TEXT',\n",
       "   'indexPrefix': {},\n",
       "   'indexName': 'content_text',\n",
       "   'parsedTextQuery': {'terms': ['covid19'],\n",
       "    'negatedTerms': [],\n",
       "    'phrases': [],\n",
       "    'negatedPhrases': []},\n",
       "   'textIndexVersion': 3,\n",
       "   'inputStage': {'stage': 'TEXT_MATCH',\n",
       "    'inputStage': {'stage': 'FETCH',\n",
       "     'inputStage': {'stage': 'OR',\n",
       "      'inputStage': {'stage': 'IXSCAN',\n",
       "       'keyPattern': {'_fts': 'text', '_ftsx': 1},\n",
       "       'indexName': 'content_text',\n",
       "       'isMultiKey': True,\n",
       "       'isUnique': False,\n",
       "       'isSparse': False,\n",
       "       'isPartial': False,\n",
       "       'indexVersion': 2,\n",
       "       'direction': 'backward',\n",
       "       'indexBounds': {}}}}}},\n",
       "  'rejectedPlans': []},\n",
       " 'executionStats': {'executionSuccess': True,\n",
       "  'nReturned': 408,\n",
       "  'executionTimeMillis': 1,\n",
       "  'totalKeysExamined': 408,\n",
       "  'totalDocsExamined': 408,\n",
       "  'executionStages': {'stage': 'TEXT',\n",
       "   'nReturned': 408,\n",
       "   'executionTimeMillisEstimate': 0,\n",
       "   'works': 409,\n",
       "   'advanced': 408,\n",
       "   'needTime': 0,\n",
       "   'needYield': 0,\n",
       "   'saveState': 3,\n",
       "   'restoreState': 3,\n",
       "   'isEOF': 1,\n",
       "   'indexPrefix': {},\n",
       "   'indexName': 'content_text',\n",
       "   'parsedTextQuery': {'terms': ['covid19'],\n",
       "    'negatedTerms': [],\n",
       "    'phrases': [],\n",
       "    'negatedPhrases': []},\n",
       "   'textIndexVersion': 3,\n",
       "   'inputStage': {'stage': 'TEXT_MATCH',\n",
       "    'nReturned': 408,\n",
       "    'executionTimeMillisEstimate': 0,\n",
       "    'works': 409,\n",
       "    'advanced': 408,\n",
       "    'needTime': 0,\n",
       "    'needYield': 0,\n",
       "    'saveState': 3,\n",
       "    'restoreState': 3,\n",
       "    'isEOF': 1,\n",
       "    'docsRejected': 0,\n",
       "    'inputStage': {'stage': 'FETCH',\n",
       "     'nReturned': 408,\n",
       "     'executionTimeMillisEstimate': 0,\n",
       "     'works': 409,\n",
       "     'advanced': 408,\n",
       "     'needTime': 0,\n",
       "     'needYield': 0,\n",
       "     'saveState': 3,\n",
       "     'restoreState': 3,\n",
       "     'isEOF': 1,\n",
       "     'docsExamined': 408,\n",
       "     'alreadyHasObj': 0,\n",
       "     'inputStage': {'stage': 'OR',\n",
       "      'nReturned': 408,\n",
       "      'executionTimeMillisEstimate': 0,\n",
       "      'works': 409,\n",
       "      'advanced': 408,\n",
       "      'needTime': 0,\n",
       "      'needYield': 0,\n",
       "      'saveState': 3,\n",
       "      'restoreState': 3,\n",
       "      'isEOF': 1,\n",
       "      'dupsTested': 408,\n",
       "      'dupsDropped': 0,\n",
       "      'inputStage': {'stage': 'IXSCAN',\n",
       "       'nReturned': 408,\n",
       "       'executionTimeMillisEstimate': 0,\n",
       "       'works': 409,\n",
       "       'advanced': 408,\n",
       "       'needTime': 0,\n",
       "       'needYield': 0,\n",
       "       'saveState': 3,\n",
       "       'restoreState': 3,\n",
       "       'isEOF': 1,\n",
       "       'keyPattern': {'_fts': 'text', '_ftsx': 1},\n",
       "       'indexName': 'content_text',\n",
       "       'isMultiKey': True,\n",
       "       'isUnique': False,\n",
       "       'isSparse': False,\n",
       "       'isPartial': False,\n",
       "       'indexVersion': 2,\n",
       "       'direction': 'backward',\n",
       "       'indexBounds': {},\n",
       "       'keysExamined': 408,\n",
       "       'seeks': 1,\n",
       "       'dupsTested': 408,\n",
       "       'dupsDropped': 0}}}}},\n",
       "  'allPlansExecution': []},\n",
       " 'serverInfo': {'host': 'DESKTOP-T0J0HGC',\n",
       "  'port': 27017,\n",
       "  'version': '4.2.6',\n",
       "  'gitVersion': '20364840b8f1af16917e4c23c1b5f5efd8b352f8'},\n",
       " 'ok': 1.0}"
      ]
     },
     "execution_count": 44,
     "metadata": {},
     "output_type": "execute_result"
    }
   ],
   "source": [
    "db1.test.find({\"$text\":{\"$search\": \"covid19\"}}).explain()"
   ]
  },
  {
   "cell_type": "code",
   "execution_count": 36,
   "metadata": {},
   "outputs": [],
   "source": [
    "#Connect to the mongoDB database\n",
    "client = pymongo.MongoClient()\n",
    "db = client[\"TWT_DB\"]\n",
    "tweets = db[\"tweets\"]"
   ]
  },
  {
   "cell_type": "code",
   "execution_count": 50,
   "metadata": {},
   "outputs": [
    {
     "data": {
      "text/plain": [
       "{'queryPlanner': {'plannerVersion': 1,\n",
       "  'namespace': 'TWT_DB.tweets',\n",
       "  'indexFilterSet': False,\n",
       "  'parsedQuery': {'content': {'$regex': 'covid19', '$options': 'i'}},\n",
       "  'winningPlan': {'stage': 'COLLSCAN',\n",
       "   'filter': {'content': {'$regex': 'covid19', '$options': 'i'}},\n",
       "   'direction': 'forward'},\n",
       "  'rejectedPlans': []},\n",
       " 'executionStats': {'executionSuccess': True,\n",
       "  'nReturned': 413,\n",
       "  'executionTimeMillis': 11,\n",
       "  'totalKeysExamined': 0,\n",
       "  'totalDocsExamined': 15429,\n",
       "  'executionStages': {'stage': 'COLLSCAN',\n",
       "   'filter': {'content': {'$regex': 'covid19', '$options': 'i'}},\n",
       "   'nReturned': 413,\n",
       "   'executionTimeMillisEstimate': 0,\n",
       "   'works': 15431,\n",
       "   'advanced': 413,\n",
       "   'needTime': 15017,\n",
       "   'needYield': 0,\n",
       "   'saveState': 120,\n",
       "   'restoreState': 120,\n",
       "   'isEOF': 1,\n",
       "   'direction': 'forward',\n",
       "   'docsExamined': 15429},\n",
       "  'allPlansExecution': []},\n",
       " 'serverInfo': {'host': 'DESKTOP-T0J0HGC',\n",
       "  'port': 27017,\n",
       "  'version': '4.2.6',\n",
       "  'gitVersion': '20364840b8f1af16917e4c23c1b5f5efd8b352f8'},\n",
       " 'ok': 1.0}"
      ]
     },
     "execution_count": 50,
     "metadata": {},
     "output_type": "execute_result"
    }
   ],
   "source": [
    "db.tweets.find({\"content\":{\"$regex\":\"covid19\",\"$options\" :'i'}}).explain()"
   ]
  },
  {
   "cell_type": "code",
   "execution_count": 59,
   "metadata": {},
   "outputs": [],
   "source": [
    "client.close()"
   ]
  },
  {
   "cell_type": "code",
   "execution_count": null,
   "metadata": {},
   "outputs": [],
   "source": []
  }
 ],
 "metadata": {
  "kernelspec": {
   "display_name": "Python 3",
   "language": "python",
   "name": "python3"
  },
  "language_info": {
   "codemirror_mode": {
    "name": "ipython",
    "version": 3
   },
   "file_extension": ".py",
   "mimetype": "text/x-python",
   "name": "python",
   "nbconvert_exporter": "python",
   "pygments_lexer": "ipython3",
   "version": "3.7.3"
  }
 },
 "nbformat": 4,
 "nbformat_minor": 2
}
