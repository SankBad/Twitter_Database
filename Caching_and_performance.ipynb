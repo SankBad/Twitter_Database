{
 "cells": [
  {
   "cell_type": "code",
   "execution_count": 22,
   "metadata": {},
   "outputs": [],
   "source": [
    "import redis\n",
    "import tweepy,pymongo\n",
    "import json\n",
    "import pandas as pd\n",
    "from bson.json_util import dumps"
   ]
  },
  {
   "cell_type": "code",
   "execution_count": 23,
   "metadata": {},
   "outputs": [],
   "source": [
    "client = pymongo.MongoClient()\n",
    "db = client[\"tweet_database\"]\n",
    "tweets = db.tweets_collection\n",
    "redis_db = redis.StrictRedis(host=\"localhost\", port=6379, db=0)"
   ]
  },
  {
   "cell_type": "markdown",
   "metadata": {},
   "source": [
    "## Creating cache with word covid19"
   ]
  },
  {
   "cell_type": "code",
   "execution_count": 24,
   "metadata": {},
   "outputs": [],
   "source": [
    "myquery = {\"content\":{\"$regex\":\"covid19\",\"$options\" :'i'}}\n",
    "twts = list(tweets.find(myquery))\n",
    "##Saving in cache\n",
    "serializedObj = dumps(twts) #serialize object for the set redis.\n",
    "result = redis_db.set('covid19_cache_dict', serializedObj) #set serialized object to redis server."
   ]
  },
  {
   "cell_type": "code",
   "execution_count": 25,
   "metadata": {},
   "outputs": [
    {
     "data": {
      "text/plain": [
       "<pymongo.results.InsertManyResult at 0x7fd9d5020b08>"
      ]
     },
     "execution_count": 25,
     "metadata": {},
     "output_type": "execute_result"
    }
   ],
   "source": [
    "from bson.json_util import loads\n",
    "json_string = redis_db.get('covid19_cache_dict')\n",
    "covid19_dict = loads(json_string)\n",
    "covid19_coll =  db[\"covid19_collection\"]\n",
    "covid19_coll.insert_many(covid19_dict)"
   ]
  },
  {
   "cell_type": "code",
   "execution_count": 28,
   "metadata": {},
   "outputs": [
    {
     "name": "stdout",
     "output_type": "stream",
     "text": [
      "--- 0.003928184509277344 millie seconds ---\n"
     ]
    }
   ],
   "source": [
    "import time\n",
    "start_time = time.time()\n",
    "twts = covid19_coll.find( {\n",
    "    \"$and\" : [\n",
    "        {\"content\":{\"$regex\":\"covid19\",\"$options\" :'i'}} , {\"content\":{\"$regex\":\"#trump\",\"$options\" :'i'}}\n",
    "    ]\n",
    "} )\n",
    "twts = list(twts)\n",
    "print(\"--- %s seconds ---\" % (time.time() - start_time))"
   ]
  },
  {
   "cell_type": "code",
   "execution_count": 29,
   "metadata": {},
   "outputs": [
    {
     "name": "stdout",
     "output_type": "stream",
     "text": [
      "--- 0.03908705711364746 seconds ---\n"
     ]
    }
   ],
   "source": [
    "import time\n",
    "start_time = time.time()\n",
    "twts = tweets.find( {\n",
    "    \"$and\" : [\n",
    "        {\"content\":{\"$regex\":\"covid19\",\"$options\" :'i'}} , {\"content\":{\"$regex\":\"#trump\",\"$options\" :'i'}}\n",
    "    ]\n",
    "} )\n",
    "twts = list(twts)\n",
    "print(\"--- %s seconds ---\" % (time.time() - start_time))"
   ]
  },
  {
   "cell_type": "code",
   "execution_count": null,
   "metadata": {},
   "outputs": [],
   "source": []
  },
  {
   "cell_type": "code",
   "execution_count": 45,
   "metadata": {},
   "outputs": [
    {
     "name": "stdout",
     "output_type": "stream",
     "text": [
      "277\n",
      "{'_id': ObjectId('5ea77cd2c9283bc56a26dbba'), 'id_str': '1254918713595191296', 'user_name': 'The Big Short', 'user_id': '1239693671965929472', 'content': '@ttmygh BREAKING NEWS! @realDonaldTrump drops Pence, adds @BernieSanders to the ticket to help Powell and Mnuchin fully socializing the Stock Mkt, Corporate America and the U.S. economy. #TrumpSanders 🤣', 'created_at': '2020-04-27 23:41:51', 'location': '', 'hashtags': ['TrumpSanders'], 'mentions': ['415921084', '25073877', '216776631'], 'in_reply_to_user_id': 415921084, 'in_reply_to_status_id': 1254874717854588930, 'retweetedFrom': -1, 'media': [], 'retweet': False, 'FavCount': 0, 'source': 'Twitter Web App', 'retweet_count': 0}\n"
     ]
    }
   ],
   "source": [
    "myquery = {\"content\":{\"$regex\":\"#trump\",\"$options\" :'i'}}\n",
    "twts = list(tweets.find(myquery))\n",
    "print(len(twts))\n",
    "print(twts[0])\n",
    "##Saving in cache\n",
    "serializedObj = dumps(twts) #serialize object for the set redis.\n",
    "result = redis_db.set('trump_cache_dict', serializedObj) #set serialized object to redis server."
   ]
  },
  {
   "cell_type": "code",
   "execution_count": 32,
   "metadata": {},
   "outputs": [
    {
     "data": {
      "text/plain": [
       "<pymongo.results.InsertManyResult at 0x7fd9d44d4208>"
      ]
     },
     "execution_count": 32,
     "metadata": {},
     "output_type": "execute_result"
    }
   ],
   "source": [
    "from bson.json_util import loads\n",
    "json_string = redis_db.get('trump_cache_dict')\n",
    "trump_dict = loads(json_string)\n",
    "trump_coll =  db[\"trump_collection\"]\n",
    "trump_coll.insert_many(trump_dict)"
   ]
  },
  {
   "cell_type": "code",
   "execution_count": 46,
   "metadata": {},
   "outputs": [
    {
     "name": "stdout",
     "output_type": "stream",
     "text": [
      "--- 0.006793022155761719 seconds ---\n"
     ]
    }
   ],
   "source": [
    "## Tweet with  maximum retweet count\n",
    "import time\n",
    "start_time = time.time()\n",
    "tweet_number = 0\n",
    "for tweet in trump_coll.find():\n",
    "    if tweet['FavCount']>4:\n",
    "        tweet_number = tweet_number + 1\n",
    "print(\"--- %s seconds ---\" % (time.time() - start_time))"
   ]
  },
  {
   "cell_type": "code",
   "execution_count": 47,
   "metadata": {},
   "outputs": [
    {
     "name": "stdout",
     "output_type": "stream",
     "text": [
      "--- 0.296842098236084 seconds ---\n"
     ]
    }
   ],
   "source": [
    "import time\n",
    "start_time = time.time()\n",
    "tweet_number = 0\n",
    "for tweet in tweets.find():\n",
    "    if tweet['FavCount']>4 and ('trump' in tweet['hashtags']):\n",
    "        tweet_number = tweet_number + 1\n",
    "print(\"--- %s seconds ---\" % (time.time() - start_time))"
   ]
  },
  {
   "cell_type": "code",
   "execution_count": null,
   "metadata": {},
   "outputs": [],
   "source": []
  },
  {
   "cell_type": "code",
   "execution_count": null,
   "metadata": {},
   "outputs": [],
   "source": []
  },
  {
   "cell_type": "code",
   "execution_count": null,
   "metadata": {},
   "outputs": [],
   "source": []
  },
  {
   "cell_type": "code",
   "execution_count": 13,
   "metadata": {},
   "outputs": [
    {
     "name": "stdout",
     "output_type": "stream",
     "text": [
      "15569\n"
     ]
    }
   ],
   "source": [
    "myquery = {}\n",
    "\n",
    "mydoc = tweets.find(myquery)\n",
    "count = 0\n",
    "for x in mydoc:\n",
    "    count = count + 1\n",
    "print(count)"
   ]
  },
  {
   "cell_type": "code",
   "execution_count": null,
   "metadata": {},
   "outputs": [],
   "source": []
  }
 ],
 "metadata": {
  "kernelspec": {
   "display_name": "Python 3",
   "language": "python",
   "name": "python3"
  },
  "language_info": {
   "codemirror_mode": {
    "name": "ipython",
    "version": 3
   },
   "file_extension": ".py",
   "mimetype": "text/x-python",
   "name": "python",
   "nbconvert_exporter": "python",
   "pygments_lexer": "ipython3",
   "version": "3.6.5"
  }
 },
 "nbformat": 4,
 "nbformat_minor": 2
}
